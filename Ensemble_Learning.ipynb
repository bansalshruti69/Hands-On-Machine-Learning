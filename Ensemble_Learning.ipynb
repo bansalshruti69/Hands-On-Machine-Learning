{
 "cells": [
  {
   "cell_type": "code",
   "execution_count": 1,
   "metadata": {},
   "outputs": [],
   "source": [
    "from sklearn.datasets import make_moons"
   ]
  },
  {
   "cell_type": "code",
   "execution_count": 22,
   "metadata": {},
   "outputs": [],
   "source": [
    "X , y = make_moons(n_samples =5000, noise =0.3)"
   ]
  },
  {
   "cell_type": "code",
   "execution_count": 23,
   "metadata": {},
   "outputs": [],
   "source": [
    "from sklearn.model_selection import train_test_split"
   ]
  },
  {
   "cell_type": "code",
   "execution_count": 25,
   "metadata": {},
   "outputs": [],
   "source": [
    "X_train,X_test,y_train,y_test = train_test_split(X,y,test_size=0.1, random_state =42)\n",
    "X_train,X_val,y_train,y_val = train_test_split(X_train,y_train,test_size = 0.1)"
   ]
  },
  {
   "cell_type": "code",
   "execution_count": 186,
   "metadata": {},
   "outputs": [],
   "source": [
    "from sklearn.linear_model import LogisticRegression"
   ]
  },
  {
   "cell_type": "code",
   "execution_count": 187,
   "metadata": {},
   "outputs": [],
   "source": [
    "from sklearn.svm import SVC"
   ]
  },
  {
   "cell_type": "code",
   "execution_count": 188,
   "metadata": {},
   "outputs": [],
   "source": [
    "from sklearn.ensemble import RandomForestClassifier"
   ]
  },
  {
   "cell_type": "code",
   "execution_count": 189,
   "metadata": {},
   "outputs": [],
   "source": [
    "log_clf = LogisticRegression()"
   ]
  },
  {
   "cell_type": "code",
   "execution_count": 190,
   "metadata": {},
   "outputs": [],
   "source": [
    "svc_clf = SVC()"
   ]
  },
  {
   "cell_type": "code",
   "execution_count": 191,
   "metadata": {},
   "outputs": [],
   "source": [
    "forest_clf = RandomForestClassifier()"
   ]
  },
  {
   "cell_type": "code",
   "execution_count": 192,
   "metadata": {},
   "outputs": [],
   "source": [
    "from sklearn.ensemble import VotingClassifier"
   ]
  },
  {
   "cell_type": "code",
   "execution_count": 193,
   "metadata": {},
   "outputs": [],
   "source": [
    "voting_clf = VotingClassifier(estimators = [('lr',log_clf),('sr',svc_clf),('fc',forest_clf)],voting = 'hard')"
   ]
  },
  {
   "cell_type": "code",
   "execution_count": 194,
   "metadata": {},
   "outputs": [
    {
     "data": {
      "text/plain": [
       "VotingClassifier(estimators=[('lr', LogisticRegression(C=1.0, class_weight=None, dual=False, fit_intercept=True,\n",
       "          intercept_scaling=1, max_iter=100, multi_class='ovr', n_jobs=1,\n",
       "          penalty='l2', random_state=None, solver='liblinear', tol=0.0001,\n",
       "          verbose=0, warm_start=False)), ('sr', SVC(C=1...n_jobs=1,\n",
       "            oob_score=False, random_state=None, verbose=0,\n",
       "            warm_start=False))],\n",
       "         flatten_transform=None, n_jobs=1, voting='hard', weights=None)"
      ]
     },
     "execution_count": 194,
     "metadata": {},
     "output_type": "execute_result"
    }
   ],
   "source": [
    "from sklearn.metrics import accuracy_score\n",
    "from sklearn.preprocessing import StandardScaler\n",
    "scaler = StandardScaler()\n",
    "X_train_scaled = scaler.fit_transform(X_train)\n",
    "X_test_scaled = scaler.transform(X_test)\n",
    "voting_clf.fit(X_train_scaled,y_train)"
   ]
  },
  {
   "cell_type": "code",
   "execution_count": 195,
   "metadata": {},
   "outputs": [
    {
     "name": "stdout",
     "output_type": "stream",
     "text": [
      "LogisticRegression 0.856\n",
      "SVC 0.888\n",
      "RandomForestClassifier 0.88\n",
      "VotingClassifier 0.888\n"
     ]
    }
   ],
   "source": [
    "for clf in (log_clf,svc_clf,forest_clf,voting_clf):\n",
    "    clf.fit(X_train_scaled,y_train)\n",
    "    y_pred = clf.predict(X_test_scaled)\n",
    "    print(clf.__class__.__name__,accuracy_score(y_test,y_pred))"
   ]
  },
  {
   "cell_type": "code",
   "execution_count": 196,
   "metadata": {},
   "outputs": [],
   "source": [
    "from sklearn.tree import DecisionTreeClassifier"
   ]
  },
  {
   "cell_type": "code",
   "execution_count": 197,
   "metadata": {},
   "outputs": [],
   "source": [
    "from sklearn.ensemble import BaggingClassifier"
   ]
  },
  {
   "cell_type": "code",
   "execution_count": 198,
   "metadata": {},
   "outputs": [],
   "source": [
    "bag_clf = BaggingClassifier(DecisionTreeClassifier(),n_estimators = 500,max_samples = 100,n_jobs =-1)"
   ]
  },
  {
   "cell_type": "code",
   "execution_count": 199,
   "metadata": {},
   "outputs": [
    {
     "data": {
      "text/plain": [
       "BaggingClassifier(base_estimator=DecisionTreeClassifier(class_weight=None, criterion='gini', max_depth=None,\n",
       "            max_features=None, max_leaf_nodes=None,\n",
       "            min_impurity_decrease=0.0, min_impurity_split=None,\n",
       "            min_samples_leaf=1, min_samples_split=2,\n",
       "            min_weight_fraction_leaf=0.0, presort=False, random_state=None,\n",
       "            splitter='best'),\n",
       "         bootstrap=True, bootstrap_features=False, max_features=1.0,\n",
       "         max_samples=100, n_estimators=500, n_jobs=-1, oob_score=False,\n",
       "         random_state=None, verbose=0, warm_start=False)"
      ]
     },
     "execution_count": 199,
     "metadata": {},
     "output_type": "execute_result"
    }
   ],
   "source": [
    "bag_clf.fit(X_train_scaled,y_train)"
   ]
  },
  {
   "cell_type": "code",
   "execution_count": 200,
   "metadata": {},
   "outputs": [],
   "source": [
    "y_pred = bag_clf.predict(X_test_scaled)"
   ]
  },
  {
   "cell_type": "code",
   "execution_count": 201,
   "metadata": {},
   "outputs": [
    {
     "data": {
      "text/plain": [
       "0.90400000000000003"
      ]
     },
     "execution_count": 201,
     "metadata": {},
     "output_type": "execute_result"
    }
   ],
   "source": [
    "accuracy_score(y_test,y_pred)"
   ]
  },
  {
   "cell_type": "code",
   "execution_count": 202,
   "metadata": {},
   "outputs": [],
   "source": [
    "tree_clf = DecisionTreeClassifier()"
   ]
  },
  {
   "cell_type": "code",
   "execution_count": 203,
   "metadata": {},
   "outputs": [
    {
     "data": {
      "text/plain": [
       "DecisionTreeClassifier(class_weight=None, criterion='gini', max_depth=None,\n",
       "            max_features=None, max_leaf_nodes=None,\n",
       "            min_impurity_decrease=0.0, min_impurity_split=None,\n",
       "            min_samples_leaf=1, min_samples_split=2,\n",
       "            min_weight_fraction_leaf=0.0, presort=False, random_state=None,\n",
       "            splitter='best')"
      ]
     },
     "execution_count": 203,
     "metadata": {},
     "output_type": "execute_result"
    }
   ],
   "source": [
    "tree_clf.fit(X_train_scaled,y_train)"
   ]
  },
  {
   "cell_type": "code",
   "execution_count": 204,
   "metadata": {},
   "outputs": [],
   "source": [
    "y_pred = tree_clf.predict(X_test_scaled)"
   ]
  },
  {
   "cell_type": "code",
   "execution_count": 205,
   "metadata": {},
   "outputs": [
    {
     "data": {
      "text/plain": [
       "0.84799999999999998"
      ]
     },
     "execution_count": 205,
     "metadata": {},
     "output_type": "execute_result"
    }
   ],
   "source": [
    "accuracy_score(y_test,y_pred)"
   ]
  },
  {
   "cell_type": "code",
   "execution_count": 179,
   "metadata": {},
   "outputs": [],
   "source": [
    "from sklearn.model_selection import train_test_split\n",
    "from sklearn.datasets import make_moons\n",
    "\n",
    "X, y = make_moons(n_samples=500, noise=0.30, random_state=42)\n",
    "X_train, X_test, y_train, y_test = train_test_split(X, y, random_state=42)"
   ]
  },
  {
   "cell_type": "code",
   "execution_count": 180,
   "metadata": {},
   "outputs": [
    {
     "data": {
      "text/plain": [
       "VotingClassifier(estimators=[('lr', LogisticRegression(C=1.0, class_weight=None, dual=False, fit_intercept=True,\n",
       "          intercept_scaling=1, max_iter=100, multi_class='ovr', n_jobs=1,\n",
       "          penalty='l2', random_state=42, solver='liblinear', tol=0.0001,\n",
       "          verbose=0, warm_start=False)), ('rf', RandomFor...f',\n",
       "  max_iter=-1, probability=False, random_state=42, shrinking=True,\n",
       "  tol=0.001, verbose=False))],\n",
       "         flatten_transform=None, n_jobs=1, voting='hard', weights=None)"
      ]
     },
     "execution_count": 180,
     "metadata": {},
     "output_type": "execute_result"
    }
   ],
   "source": [
    "from sklearn.ensemble import RandomForestClassifier\n",
    "from sklearn.ensemble import VotingClassifier\n",
    "from sklearn.linear_model import LogisticRegression\n",
    "from sklearn.svm import SVC\n",
    "\n",
    "log_clf = LogisticRegression(random_state=42)\n",
    "rnd_clf = RandomForestClassifier(random_state=42)\n",
    "svm_clf = SVC(random_state=42)\n",
    "\n",
    "voting_clf = VotingClassifier(\n",
    "    estimators=[('lr', log_clf), ('rf', rnd_clf), ('svc', svm_clf)],\n",
    "    voting='hard')\n",
    "voting_clf.fit(X_train, y_train)"
   ]
  },
  {
   "cell_type": "code",
   "execution_count": 181,
   "metadata": {},
   "outputs": [
    {
     "name": "stdout",
     "output_type": "stream",
     "text": [
      "LogisticRegression 0.864\n",
      "RandomForestClassifier 0.872\n",
      "SVC 0.888\n",
      "VotingClassifier 0.896\n"
     ]
    }
   ],
   "source": [
    "from sklearn.metrics import accuracy_score\n",
    "\n",
    "for clf in (log_clf, rnd_clf, svm_clf, voting_clf):\n",
    "    clf.fit(X_train, y_train)\n",
    "    y_pred = clf.predict(X_test)\n",
    "    print(clf.__class__.__name__, accuracy_score(y_test, y_pred))\n"
   ]
  },
  {
   "cell_type": "code",
   "execution_count": 211,
   "metadata": {},
   "outputs": [],
   "source": [
    "bag_clf = BaggingClassifier(DecisionTreeClassifier(),n_estimators = 500,max_samples =100,n_jobs =-1,oob_score = True\n",
    "                           )"
   ]
  },
  {
   "cell_type": "code",
   "execution_count": 212,
   "metadata": {},
   "outputs": [
    {
     "data": {
      "text/plain": [
       "BaggingClassifier(base_estimator=DecisionTreeClassifier(class_weight=None, criterion='gini', max_depth=None,\n",
       "            max_features=None, max_leaf_nodes=None,\n",
       "            min_impurity_decrease=0.0, min_impurity_split=None,\n",
       "            min_samples_leaf=1, min_samples_split=2,\n",
       "            min_weight_fraction_leaf=0.0, presort=False, random_state=None,\n",
       "            splitter='best'),\n",
       "         bootstrap=True, bootstrap_features=False, max_features=1.0,\n",
       "         max_samples=100, n_estimators=500, n_jobs=-1, oob_score=True,\n",
       "         random_state=None, verbose=0, warm_start=False)"
      ]
     },
     "execution_count": 212,
     "metadata": {},
     "output_type": "execute_result"
    }
   ],
   "source": [
    "bag_clf.fit(X_train,y_train)"
   ]
  },
  {
   "cell_type": "code",
   "execution_count": 213,
   "metadata": {},
   "outputs": [
    {
     "data": {
      "text/plain": [
       "0.90400000000000003"
      ]
     },
     "execution_count": 213,
     "metadata": {},
     "output_type": "execute_result"
    }
   ],
   "source": [
    "bag_clf.oob_score_"
   ]
  },
  {
   "cell_type": "code",
   "execution_count": 214,
   "metadata": {},
   "outputs": [],
   "source": [
    "y_pred = bag_clf.predict(X_test)"
   ]
  },
  {
   "cell_type": "code",
   "execution_count": 215,
   "metadata": {},
   "outputs": [
    {
     "data": {
      "text/plain": [
       "0.89600000000000002"
      ]
     },
     "execution_count": 215,
     "metadata": {},
     "output_type": "execute_result"
    }
   ],
   "source": [
    "accuracy_score(y_test,y_pred)"
   ]
  },
  {
   "cell_type": "code",
   "execution_count": 216,
   "metadata": {},
   "outputs": [
    {
     "data": {
      "text/plain": [
       "array([[ 0.75959079,  0.24040921],\n",
       "       [ 0.87037037,  0.12962963],\n",
       "       [ 0.43085106,  0.56914894],\n",
       "       [ 0.        ,  1.        ],\n",
       "       [ 0.02116402,  0.97883598],\n",
       "       [ 0.65274151,  0.34725849],\n",
       "       [ 0.29305913,  0.70694087],\n",
       "       [ 0.63779528,  0.36220472],\n",
       "       [ 1.        ,  0.        ],\n",
       "       [ 0.0703125 ,  0.9296875 ],\n",
       "       [ 0.94850949,  0.05149051],\n",
       "       [ 0.93188011,  0.06811989],\n",
       "       [ 0.36410256,  0.63589744],\n",
       "       [ 0.90861619,  0.09138381],\n",
       "       [ 0.01621622,  0.98378378],\n",
       "       [ 0.04092072,  0.95907928],\n",
       "       [ 0.00268817,  0.99731183],\n",
       "       [ 0.28219178,  0.71780822],\n",
       "       [ 0.1202046 ,  0.8797954 ],\n",
       "       [ 0.        ,  1.        ],\n",
       "       [ 0.02590674,  0.97409326],\n",
       "       [ 0.9025641 ,  0.0974359 ],\n",
       "       [ 0.12234043,  0.87765957],\n",
       "       [ 0.4747191 ,  0.5252809 ],\n",
       "       [ 0.01347709,  0.98652291],\n",
       "       [ 0.99206349,  0.00793651],\n",
       "       [ 0.07692308,  0.92307692],\n",
       "       [ 0.03166227,  0.96833773],\n",
       "       [ 0.06649616,  0.93350384],\n",
       "       [ 0.99224806,  0.00775194],\n",
       "       [ 0.92268041,  0.07731959],\n",
       "       [ 0.11764706,  0.88235294],\n",
       "       [ 1.        ,  0.        ],\n",
       "       [ 0.35839599,  0.64160401],\n",
       "       [ 0.1       ,  0.9       ],\n",
       "       [ 0.05277778,  0.94722222],\n",
       "       [ 0.03589744,  0.96410256],\n",
       "       [ 0.96437659,  0.03562341],\n",
       "       [ 0.9625    ,  0.0375    ],\n",
       "       [ 0.95854922,  0.04145078],\n",
       "       [ 0.02597403,  0.97402597],\n",
       "       [ 0.83376623,  0.16623377],\n",
       "       [ 0.        ,  1.        ],\n",
       "       [ 0.25575448,  0.74424552],\n",
       "       [ 0.01298701,  0.98701299],\n",
       "       [ 0.7016129 ,  0.2983871 ],\n",
       "       [ 0.15885417,  0.84114583],\n",
       "       [ 0.96782842,  0.03217158],\n",
       "       [ 0.03448276,  0.96551724],\n",
       "       [ 0.53229974,  0.46770026],\n",
       "       [ 0.03617571,  0.96382429],\n",
       "       [ 0.06434316,  0.93565684],\n",
       "       [ 0.99752475,  0.00247525],\n",
       "       [ 0.92125984,  0.07874016],\n",
       "       [ 0.17447917,  0.82552083],\n",
       "       [ 0.08831169,  0.91168831],\n",
       "       [ 0.05513784,  0.94486216],\n",
       "       [ 0.08311688,  0.91688312],\n",
       "       [ 0.96533333,  0.03466667],\n",
       "       [ 0.5974026 ,  0.4025974 ],\n",
       "       [ 1.        ,  0.        ],\n",
       "       [ 0.        ,  1.        ],\n",
       "       [ 0.94850949,  0.05149051],\n",
       "       [ 0.03753351,  0.96246649],\n",
       "       [ 0.02362205,  0.97637795],\n",
       "       [ 0.        ,  1.        ],\n",
       "       [ 0.1312336 ,  0.8687664 ],\n",
       "       [ 0.75257732,  0.24742268],\n",
       "       [ 0.74338624,  0.25661376],\n",
       "       [ 0.13492063,  0.86507937],\n",
       "       [ 0.89203085,  0.10796915],\n",
       "       [ 0.89350649,  0.10649351],\n",
       "       [ 0.99202128,  0.00797872],\n",
       "       [ 0.99746835,  0.00253165],\n",
       "       [ 0.45406824,  0.54593176],\n",
       "       [ 0.88010204,  0.11989796],\n",
       "       [ 0.04603581,  0.95396419],\n",
       "       [ 0.89095745,  0.10904255],\n",
       "       [ 0.0026178 ,  0.9973822 ],\n",
       "       [ 1.        ,  0.        ],\n",
       "       [ 1.        ,  0.        ],\n",
       "       [ 0.00795756,  0.99204244],\n",
       "       [ 0.89124668,  0.10875332],\n",
       "       [ 1.        ,  0.        ],\n",
       "       [ 0.10498688,  0.89501312],\n",
       "       [ 0.95687332,  0.04312668],\n",
       "       [ 0.45576408,  0.54423592],\n",
       "       [ 0.98950131,  0.01049869],\n",
       "       [ 0.99493671,  0.00506329],\n",
       "       [ 0.77179487,  0.22820513],\n",
       "       [ 0.23797468,  0.76202532],\n",
       "       [ 0.17333333,  0.82666667],\n",
       "       [ 0.94315245,  0.05684755],\n",
       "       [ 0.66223404,  0.33776596],\n",
       "       [ 0.92950392,  0.07049608],\n",
       "       [ 0.9974026 ,  0.0025974 ],\n",
       "       [ 0.2357513 ,  0.7642487 ],\n",
       "       [ 0.12151899,  0.87848101],\n",
       "       [ 0.        ,  1.        ],\n",
       "       [ 0.98429319,  0.01570681],\n",
       "       [ 1.        ,  0.        ],\n",
       "       [ 0.98387097,  0.01612903],\n",
       "       [ 0.75      ,  0.25      ],\n",
       "       [ 0.19422572,  0.80577428],\n",
       "       [ 0.90609137,  0.09390863],\n",
       "       [ 0.18062827,  0.81937173],\n",
       "       [ 0.83678756,  0.16321244],\n",
       "       [ 0.02617801,  0.97382199],\n",
       "       [ 0.23136247,  0.76863753],\n",
       "       [ 1.        ,  0.        ],\n",
       "       [ 0.99197861,  0.00802139],\n",
       "       [ 0.91105121,  0.08894879],\n",
       "       [ 0.99489796,  0.00510204],\n",
       "       [ 0.1468144 ,  0.8531856 ],\n",
       "       [ 0.95733333,  0.04266667],\n",
       "       [ 0.02590674,  0.97409326],\n",
       "       [ 0.9870801 ,  0.0129199 ],\n",
       "       [ 0.05333333,  0.94666667],\n",
       "       [ 0.76762402,  0.23237598],\n",
       "       [ 0.12760417,  0.87239583],\n",
       "       [ 0.12655087,  0.87344913],\n",
       "       [ 0.47927461,  0.52072539],\n",
       "       [ 0.98429319,  0.01570681],\n",
       "       [ 0.91957105,  0.08042895],\n",
       "       [ 0.02144772,  0.97855228],\n",
       "       [ 0.13672922,  0.86327078],\n",
       "       [ 0.10945274,  0.89054726],\n",
       "       [ 0.        ,  1.        ],\n",
       "       [ 0.37172775,  0.62827225],\n",
       "       [ 1.        ,  0.        ],\n",
       "       [ 0.        ,  1.        ],\n",
       "       [ 0.98941799,  0.01058201],\n",
       "       [ 1.        ,  0.        ],\n",
       "       [ 1.        ,  0.        ],\n",
       "       [ 0.96124031,  0.03875969],\n",
       "       [ 0.62894737,  0.37105263],\n",
       "       [ 0.1443038 ,  0.8556962 ],\n",
       "       [ 0.        ,  1.        ],\n",
       "       [ 0.97382199,  0.02617801],\n",
       "       [ 0.34203655,  0.65796345],\n",
       "       [ 0.90450928,  0.09549072],\n",
       "       [ 0.1662531 ,  0.8337469 ],\n",
       "       [ 0.93924051,  0.06075949],\n",
       "       [ 0.5855615 ,  0.4144385 ],\n",
       "       [ 0.1027027 ,  0.8972973 ],\n",
       "       [ 0.10026385,  0.89973615],\n",
       "       [ 1.        ,  0.        ],\n",
       "       [ 0.16266667,  0.83733333],\n",
       "       [ 0.93700787,  0.06299213],\n",
       "       [ 0.19473684,  0.80526316],\n",
       "       [ 0.79283887,  0.20716113],\n",
       "       [ 0.97179487,  0.02820513],\n",
       "       [ 0.03166227,  0.96833773],\n",
       "       [ 0.02849741,  0.97150259],\n",
       "       [ 0.97843666,  0.02156334],\n",
       "       [ 0.02307692,  0.97692308],\n",
       "       [ 0.37851662,  0.62148338],\n",
       "       [ 0.99734043,  0.00265957],\n",
       "       [ 0.86170213,  0.13829787],\n",
       "       [ 1.        ,  0.        ],\n",
       "       [ 0.93455497,  0.06544503],\n",
       "       [ 0.01851852,  0.98148148],\n",
       "       [ 0.04627249,  0.95372751],\n",
       "       [ 0.96428571,  0.03571429],\n",
       "       [ 0.02290076,  0.97709924],\n",
       "       [ 0.99497487,  0.00502513],\n",
       "       [ 0.02168022,  0.97831978],\n",
       "       [ 0.74663073,  0.25336927],\n",
       "       [ 0.0125    ,  0.9875    ],\n",
       "       [ 0.03926702,  0.96073298],\n",
       "       [ 0.99741602,  0.00258398],\n",
       "       [ 0.47120419,  0.52879581],\n",
       "       [ 0.03324808,  0.96675192],\n",
       "       [ 0.51538462,  0.48461538],\n",
       "       [ 0.13350785,  0.86649215],\n",
       "       [ 0.02439024,  0.97560976],\n",
       "       [ 0.7627551 ,  0.2372449 ],\n",
       "       [ 0.16180371,  0.83819629],\n",
       "       [ 0.92631579,  0.07368421],\n",
       "       [ 0.92021277,  0.07978723],\n",
       "       [ 0.17866667,  0.82133333],\n",
       "       [ 0.05370844,  0.94629156],\n",
       "       [ 0.94923858,  0.05076142],\n",
       "       [ 0.        ,  1.        ],\n",
       "       [ 0.06753247,  0.93246753],\n",
       "       [ 0.95584416,  0.04415584],\n",
       "       [ 0.06860158,  0.93139842],\n",
       "       [ 0.54636591,  0.45363409],\n",
       "       [ 0.90710383,  0.09289617],\n",
       "       [ 0.86082474,  0.13917526],\n",
       "       [ 0.        ,  1.        ],\n",
       "       [ 0.00815217,  0.99184783],\n",
       "       [ 0.98387097,  0.01612903],\n",
       "       [ 0.        ,  1.        ],\n",
       "       [ 0.97943445,  0.02056555],\n",
       "       [ 0.12564103,  0.87435897],\n",
       "       [ 0.96605744,  0.03394256],\n",
       "       [ 0.75066313,  0.24933687],\n",
       "       [ 0.93489583,  0.06510417],\n",
       "       [ 0.05684755,  0.94315245],\n",
       "       [ 0.        ,  1.        ],\n",
       "       [ 0.23298429,  0.76701571],\n",
       "       [ 0.0390625 ,  0.9609375 ],\n",
       "       [ 0.99477807,  0.00522193],\n",
       "       [ 0.5144357 ,  0.4855643 ],\n",
       "       [ 0.96842105,  0.03157895],\n",
       "       [ 0.25065963,  0.74934037],\n",
       "       [ 0.11568123,  0.88431877],\n",
       "       [ 0.8516624 ,  0.1483376 ],\n",
       "       [ 0.11111111,  0.88888889],\n",
       "       [ 0.00260417,  0.99739583],\n",
       "       [ 0.88431877,  0.11568123],\n",
       "       [ 0.16494845,  0.83505155],\n",
       "       [ 0.97066667,  0.02933333],\n",
       "       [ 0.0026178 ,  0.9973822 ],\n",
       "       [ 0.95561358,  0.04438642],\n",
       "       [ 0.01025641,  0.98974359],\n",
       "       [ 0.10732984,  0.89267016],\n",
       "       [ 0.12073491,  0.87926509],\n",
       "       [ 0.10594315,  0.89405685],\n",
       "       [ 0.97082228,  0.02917772],\n",
       "       [ 0.04177546,  0.95822454],\n",
       "       [ 0.06766917,  0.93233083],\n",
       "       [ 0.96428571,  0.03571429],\n",
       "       [ 0.00508906,  0.99491094],\n",
       "       [ 0.94117647,  0.05882353],\n",
       "       [ 0.        ,  1.        ],\n",
       "       [ 0.97304582,  0.02695418],\n",
       "       [ 0.46842105,  0.53157895],\n",
       "       [ 0.02842377,  0.97157623],\n",
       "       [ 0.99202128,  0.00797872],\n",
       "       [ 0.01608579,  0.98391421],\n",
       "       [ 0.        ,  1.        ],\n",
       "       [ 0.00273224,  0.99726776],\n",
       "       [ 1.        ,  0.        ],\n",
       "       [ 0.99447514,  0.00552486],\n",
       "       [ 0.97311828,  0.02688172],\n",
       "       [ 0.20833333,  0.79166667],\n",
       "       [ 0.        ,  1.        ],\n",
       "       [ 0.92443325,  0.07556675],\n",
       "       [ 0.95290859,  0.04709141],\n",
       "       [ 0.06068602,  0.93931398],\n",
       "       [ 0.19897959,  0.80102041],\n",
       "       [ 0.84496124,  0.15503876],\n",
       "       [ 0.6       ,  0.4       ],\n",
       "       [ 0.9811828 ,  0.0188172 ],\n",
       "       [ 0.14736842,  0.85263158],\n",
       "       [ 0.99737533,  0.00262467],\n",
       "       [ 0.18205805,  0.81794195],\n",
       "       [ 0.76737968,  0.23262032],\n",
       "       [ 0.99736148,  0.00263852],\n",
       "       [ 0.95641026,  0.04358974],\n",
       "       [ 1.        ,  0.        ],\n",
       "       [ 0.43157895,  0.56842105],\n",
       "       [ 0.        ,  1.        ],\n",
       "       [ 0.01832461,  0.98167539],\n",
       "       [ 0.99728261,  0.00271739],\n",
       "       [ 0.01763224,  0.98236776],\n",
       "       [ 0.93573265,  0.06426735],\n",
       "       [ 0.15873016,  0.84126984],\n",
       "       [ 0.99738903,  0.00261097],\n",
       "       [ 0.9762533 ,  0.0237467 ],\n",
       "       [ 0.99751861,  0.00248139],\n",
       "       [ 0.0078329 ,  0.9921671 ],\n",
       "       [ 0.89027431,  0.10972569],\n",
       "       [ 0.93717277,  0.06282723],\n",
       "       [ 0.00262467,  0.99737533],\n",
       "       [ 0.98947368,  0.01052632],\n",
       "       [ 0.96915167,  0.03084833],\n",
       "       [ 0.375     ,  0.625     ],\n",
       "       [ 0.99753086,  0.00246914],\n",
       "       [ 0.78092784,  0.21907216],\n",
       "       [ 0.26980198,  0.73019802],\n",
       "       [ 0.63085399,  0.36914601],\n",
       "       [ 0.04973822,  0.95026178],\n",
       "       [ 0.49473684,  0.50526316],\n",
       "       [ 0.01808786,  0.98191214],\n",
       "       [ 0.96256684,  0.03743316],\n",
       "       [ 0.        ,  1.        ],\n",
       "       [ 0.91688312,  0.08311688],\n",
       "       [ 0.02597403,  0.97402597],\n",
       "       [ 0.98984772,  0.01015228],\n",
       "       [ 0.21134021,  0.78865979],\n",
       "       [ 0.01298701,  0.98701299],\n",
       "       [ 0.0302267 ,  0.9697733 ],\n",
       "       [ 0.09973753,  0.90026247],\n",
       "       [ 0.74677003,  0.25322997],\n",
       "       [ 0.73796791,  0.26203209],\n",
       "       [ 0.01832461,  0.98167539],\n",
       "       [ 0.12433862,  0.87566138],\n",
       "       [ 0.98425197,  0.01574803],\n",
       "       [ 0.09254499,  0.90745501],\n",
       "       [ 0.08877285,  0.91122715],\n",
       "       [ 0.02088773,  0.97911227],\n",
       "       [ 0.01871658,  0.98128342],\n",
       "       [ 0.88860104,  0.11139896],\n",
       "       [ 0.02439024,  0.97560976],\n",
       "       [ 0.        ,  1.        ],\n",
       "       [ 0.01256281,  0.98743719],\n",
       "       [ 0.96833773,  0.03166227],\n",
       "       [ 0.98133333,  0.01866667],\n",
       "       [ 0.        ,  1.        ],\n",
       "       [ 0.96163683,  0.03836317],\n",
       "       [ 0.        ,  1.        ],\n",
       "       [ 0.98421053,  0.01578947],\n",
       "       [ 0.53904282,  0.46095718],\n",
       "       [ 0.94414894,  0.05585106],\n",
       "       [ 0.12531969,  0.87468031],\n",
       "       [ 0.21994885,  0.78005115],\n",
       "       [ 0.58376963,  0.41623037],\n",
       "       [ 0.        ,  1.        ],\n",
       "       [ 0.        ,  1.        ],\n",
       "       [ 0.00253807,  0.99746193],\n",
       "       [ 0.89769821,  0.10230179],\n",
       "       [ 0.61764706,  0.38235294],\n",
       "       [ 0.        ,  1.        ],\n",
       "       [ 0.36266667,  0.63733333],\n",
       "       [ 0.01876676,  0.98123324],\n",
       "       [ 0.79328165,  0.20671835],\n",
       "       [ 0.95477387,  0.04522613],\n",
       "       [ 0.94750656,  0.05249344],\n",
       "       [ 0.00802139,  0.99197861],\n",
       "       [ 0.48041775,  0.51958225],\n",
       "       [ 0.        ,  1.        ],\n",
       "       [ 0.16923077,  0.83076923],\n",
       "       [ 0.02061856,  0.97938144],\n",
       "       [ 0.7310705 ,  0.2689295 ],\n",
       "       [ 0.01269036,  0.98730964],\n",
       "       [ 0.97777778,  0.02222222],\n",
       "       [ 0.58701299,  0.41298701],\n",
       "       [ 0.00546448,  0.99453552],\n",
       "       [ 0.99733333,  0.00266667],\n",
       "       [ 0.0026455 ,  0.9973545 ],\n",
       "       [ 0.        ,  1.        ],\n",
       "       [ 0.12      ,  0.88      ],\n",
       "       [ 0.96410256,  0.03589744],\n",
       "       [ 0.        ,  1.        ],\n",
       "       [ 0.91578947,  0.08421053],\n",
       "       [ 0.96486486,  0.03513514],\n",
       "       [ 0.11917098,  0.88082902],\n",
       "       [ 0.        ,  1.        ],\n",
       "       [ 0.02227723,  0.97772277],\n",
       "       [ 0.97860963,  0.02139037],\n",
       "       [ 0.90314136,  0.09685864],\n",
       "       [ 0.00543478,  0.99456522],\n",
       "       [ 0.01595745,  0.98404255],\n",
       "       [ 0.99483204,  0.00516796],\n",
       "       [ 0.96938776,  0.03061224],\n",
       "       [ 0.04102564,  0.95897436],\n",
       "       [ 0.        ,  1.        ],\n",
       "       [ 0.66047745,  0.33952255],\n",
       "       [ 0.94472362,  0.05527638],\n",
       "       [ 0.01385042,  0.98614958],\n",
       "       [ 0.80208333,  0.19791667],\n",
       "       [ 0.00255754,  0.99744246],\n",
       "       [ 0.61498708,  0.38501292],\n",
       "       [ 0.89175258,  0.10824742],\n",
       "       [ 0.71611253,  0.28388747],\n",
       "       [ 0.08268734,  0.91731266],\n",
       "       [ 0.65544041,  0.34455959],\n",
       "       [ 0.01329787,  0.98670213],\n",
       "       [ 0.03473945,  0.96526055],\n",
       "       [ 0.97927461,  0.02072539],\n",
       "       [ 0.77248677,  0.22751323],\n",
       "       [ 0.98958333,  0.01041667],\n",
       "       [ 0.99487179,  0.00512821],\n",
       "       [ 0.18925831,  0.81074169],\n",
       "       [ 0.99496222,  0.00503778],\n",
       "       [ 0.99477807,  0.00522193],\n",
       "       [ 0.98412698,  0.01587302],\n",
       "       [ 0.        ,  1.        ],\n",
       "       [ 0.04909561,  0.95090439],\n",
       "       [ 0.25745257,  0.74254743],\n",
       "       [ 0.        ,  1.        ],\n",
       "       [ 0.976     ,  0.024     ]])"
      ]
     },
     "execution_count": 216,
     "metadata": {},
     "output_type": "execute_result"
    }
   ],
   "source": [
    "bag_clf.oob_decision_function_"
   ]
  },
  {
   "cell_type": "code",
   "execution_count": 217,
   "metadata": {},
   "outputs": [
    {
     "data": {
      "text/plain": [
       "(500, 2)"
      ]
     },
     "execution_count": 217,
     "metadata": {},
     "output_type": "execute_result"
    }
   ],
   "source": [
    "X.shape"
   ]
  },
  {
   "cell_type": "code",
   "execution_count": 218,
   "metadata": {},
   "outputs": [],
   "source": [
    "forest_clf =RandomForestClassifier(n_estimators = 500, max_leaf_nodes = 16, n_jobs =-1)"
   ]
  },
  {
   "cell_type": "code",
   "execution_count": 219,
   "metadata": {},
   "outputs": [
    {
     "data": {
      "text/plain": [
       "RandomForestClassifier(bootstrap=True, class_weight=None, criterion='gini',\n",
       "            max_depth=None, max_features='auto', max_leaf_nodes=16,\n",
       "            min_impurity_decrease=0.0, min_impurity_split=None,\n",
       "            min_samples_leaf=1, min_samples_split=2,\n",
       "            min_weight_fraction_leaf=0.0, n_estimators=500, n_jobs=-1,\n",
       "            oob_score=False, random_state=None, verbose=0,\n",
       "            warm_start=False)"
      ]
     },
     "execution_count": 219,
     "metadata": {},
     "output_type": "execute_result"
    }
   ],
   "source": [
    "forest_clf.fit(X_train,y_train)"
   ]
  },
  {
   "cell_type": "code",
   "execution_count": 220,
   "metadata": {},
   "outputs": [],
   "source": [
    "y_pred = forest_clf.predict(X_test)"
   ]
  },
  {
   "cell_type": "code",
   "execution_count": 221,
   "metadata": {},
   "outputs": [
    {
     "data": {
      "text/plain": [
       "0.90400000000000003"
      ]
     },
     "execution_count": 221,
     "metadata": {},
     "output_type": "execute_result"
    }
   ],
   "source": [
    "accuracy_score(y_test,y_pred)"
   ]
  },
  {
   "cell_type": "code",
   "execution_count": 222,
   "metadata": {},
   "outputs": [],
   "source": [
    "bag_clf = BaggingClassifier(DecisionTreeClassifier(splitter ='random',max_leaf_nodes =16),n_estimators =500, max_samples =1.0,n_jobs =-1)"
   ]
  },
  {
   "cell_type": "code",
   "execution_count": 223,
   "metadata": {},
   "outputs": [
    {
     "data": {
      "text/plain": [
       "BaggingClassifier(base_estimator=DecisionTreeClassifier(class_weight=None, criterion='gini', max_depth=None,\n",
       "            max_features=None, max_leaf_nodes=16,\n",
       "            min_impurity_decrease=0.0, min_impurity_split=None,\n",
       "            min_samples_leaf=1, min_samples_split=2,\n",
       "            min_weight_fraction_leaf=0.0, presort=False, random_state=None,\n",
       "            splitter='random'),\n",
       "         bootstrap=True, bootstrap_features=False, max_features=1.0,\n",
       "         max_samples=1.0, n_estimators=500, n_jobs=-1, oob_score=False,\n",
       "         random_state=None, verbose=0, warm_start=False)"
      ]
     },
     "execution_count": 223,
     "metadata": {},
     "output_type": "execute_result"
    }
   ],
   "source": [
    "bag_clf.fit(X_train,y_train)"
   ]
  },
  {
   "cell_type": "code",
   "execution_count": 224,
   "metadata": {},
   "outputs": [],
   "source": [
    "y_pred = bag_clf.predict(X_test)"
   ]
  },
  {
   "cell_type": "code",
   "execution_count": 225,
   "metadata": {},
   "outputs": [
    {
     "data": {
      "text/plain": [
       "0.88800000000000001"
      ]
     },
     "execution_count": 225,
     "metadata": {},
     "output_type": "execute_result"
    }
   ],
   "source": [
    "accuracy_score(y_test,y_pred)"
   ]
  },
  {
   "cell_type": "code",
   "execution_count": 227,
   "metadata": {},
   "outputs": [],
   "source": [
    "from sklearn.ensemble import ExtraTreesClassifier"
   ]
  },
  {
   "cell_type": "code",
   "execution_count": 228,
   "metadata": {},
   "outputs": [],
   "source": [
    "ex_tree_clf = ExtraTreesClassifier(n_estimators =500,max_leaf_nodes =16,n_jobs =-1)"
   ]
  },
  {
   "cell_type": "code",
   "execution_count": 229,
   "metadata": {},
   "outputs": [
    {
     "data": {
      "text/plain": [
       "ExtraTreesClassifier(bootstrap=False, class_weight=None, criterion='gini',\n",
       "           max_depth=None, max_features='auto', max_leaf_nodes=16,\n",
       "           min_impurity_decrease=0.0, min_impurity_split=None,\n",
       "           min_samples_leaf=1, min_samples_split=2,\n",
       "           min_weight_fraction_leaf=0.0, n_estimators=500, n_jobs=-1,\n",
       "           oob_score=False, random_state=None, verbose=0, warm_start=False)"
      ]
     },
     "execution_count": 229,
     "metadata": {},
     "output_type": "execute_result"
    }
   ],
   "source": [
    "ex_tree_clf.fit(X_train,y_train)"
   ]
  },
  {
   "cell_type": "code",
   "execution_count": 230,
   "metadata": {},
   "outputs": [],
   "source": [
    "y_pred = ex_tree_clf.predict(X_test)"
   ]
  },
  {
   "cell_type": "code",
   "execution_count": 231,
   "metadata": {},
   "outputs": [
    {
     "data": {
      "text/plain": [
       "0.88800000000000001"
      ]
     },
     "execution_count": 231,
     "metadata": {},
     "output_type": "execute_result"
    }
   ],
   "source": [
    "accuracy_score(y_test,y_pred)"
   ]
  },
  {
   "cell_type": "code",
   "execution_count": 232,
   "metadata": {},
   "outputs": [],
   "source": [
    "from sklearn import datasets"
   ]
  },
  {
   "cell_type": "code",
   "execution_count": 234,
   "metadata": {},
   "outputs": [],
   "source": [
    "iris = datasets.load_iris()"
   ]
  },
  {
   "cell_type": "code",
   "execution_count": 235,
   "metadata": {},
   "outputs": [],
   "source": [
    "X = iris[\"data\"]"
   ]
  },
  {
   "cell_type": "code",
   "execution_count": 237,
   "metadata": {},
   "outputs": [],
   "source": [
    "y = iris[\"target\"]"
   ]
  },
  {
   "cell_type": "code",
   "execution_count": 238,
   "metadata": {},
   "outputs": [],
   "source": [
    "rnd_clf = RandomForestClassifier(n_estimators = 500, n_jobs =-1)"
   ]
  },
  {
   "cell_type": "code",
   "execution_count": 239,
   "metadata": {},
   "outputs": [
    {
     "data": {
      "text/plain": [
       "RandomForestClassifier(bootstrap=True, class_weight=None, criterion='gini',\n",
       "            max_depth=None, max_features='auto', max_leaf_nodes=None,\n",
       "            min_impurity_decrease=0.0, min_impurity_split=None,\n",
       "            min_samples_leaf=1, min_samples_split=2,\n",
       "            min_weight_fraction_leaf=0.0, n_estimators=500, n_jobs=-1,\n",
       "            oob_score=False, random_state=None, verbose=0,\n",
       "            warm_start=False)"
      ]
     },
     "execution_count": 239,
     "metadata": {},
     "output_type": "execute_result"
    }
   ],
   "source": [
    "rnd_clf.fit(X,y)"
   ]
  },
  {
   "cell_type": "code",
   "execution_count": 240,
   "metadata": {},
   "outputs": [
    {
     "name": "stdout",
     "output_type": "stream",
     "text": [
      "sepal length (cm) 0.0987231300238\n",
      "sepal width (cm) 0.0227347453444\n",
      "petal length (cm) 0.455252231849\n",
      "petal width (cm) 0.423289892783\n"
     ]
    }
   ],
   "source": [
    "for name,score in zip(iris[\"feature_names\"],rnd_clf.feature_importances_):\n",
    "    print(name,score)"
   ]
  },
  {
   "cell_type": "code",
   "execution_count": 241,
   "metadata": {},
   "outputs": [],
   "source": [
    "from sklearn.datasets import fetch_mldata\n",
    "mnist = fetch_mldata('MNIST original')"
   ]
  },
  {
   "cell_type": "code",
   "execution_count": 242,
   "metadata": {},
   "outputs": [
    {
     "data": {
      "text/plain": [
       "RandomForestClassifier(bootstrap=True, class_weight=None, criterion='gini',\n",
       "            max_depth=None, max_features='auto', max_leaf_nodes=None,\n",
       "            min_impurity_decrease=0.0, min_impurity_split=None,\n",
       "            min_samples_leaf=1, min_samples_split=2,\n",
       "            min_weight_fraction_leaf=0.0, n_estimators=10, n_jobs=1,\n",
       "            oob_score=False, random_state=42, verbose=0, warm_start=False)"
      ]
     },
     "execution_count": 242,
     "metadata": {},
     "output_type": "execute_result"
    }
   ],
   "source": [
    "rnd_clf = RandomForestClassifier(random_state=42)\n",
    "rnd_clf.fit(mnist[\"data\"], mnist[\"target\"])"
   ]
  },
  {
   "cell_type": "code",
   "execution_count": 243,
   "metadata": {},
   "outputs": [],
   "source": [
    "def plot_digit(data):\n",
    "    image = data.reshape(28, 28)\n",
    "    plt.imshow(image, cmap = matplotlib.cm.hot,\n",
    "               interpolation=\"nearest\")\n",
    "    plt.axis(\"off\")"
   ]
  },
  {
   "cell_type": "code",
   "execution_count": 249,
   "metadata": {},
   "outputs": [
    {
     "data": {
      "image/png": "[encoded data removed]",
      "text/plain": [
       "<matplotlib.figure.Figure at 0x7f78a4f94ac8>"
      ]
     },
     "metadata": {},
     "output_type": "display_data"
    }
   ],
   "source": [
    "import matplotlib.pyplot as plt\n",
    "import matplotlib\n",
    "plot_digit(rnd_clf.feature_importances_)\n",
    "\n",
    "cbar = plt.colorbar(ticks=[rnd_clf.feature_importances_.min(), rnd_clf.feature_importances_.max()])\n",
    "cbar.ax.set_yticklabels(['Not important', 'Very important'])\n",
    "\n",
    "plt.savefig(\"mnist_feature_importance_plot\")\n",
    "plt.show()"
   ]
  },
  {
   "cell_type": "code",
   "execution_count": 254,
   "metadata": {},
   "outputs": [],
   "source": [
    "from sklearn.ensemble import AdaBoostClassifier"
   ]
  },
  {
   "cell_type": "code",
   "execution_count": 255,
   "metadata": {},
   "outputs": [],
   "source": [
    "ada_clf = AdaBoostClassifier(DecisionTreeClassifier(max_depth = 1),n_estimators =200, algorithm = 'SAMME.R', learning_rate =0.5)"
   ]
  },
  {
   "cell_type": "code",
   "execution_count": 256,
   "metadata": {},
   "outputs": [
    {
     "data": {
      "text/plain": [
       "AdaBoostClassifier(algorithm='SAMME.R',\n",
       "          base_estimator=DecisionTreeClassifier(class_weight=None, criterion='gini', max_depth=1,\n",
       "            max_features=None, max_leaf_nodes=None,\n",
       "            min_impurity_decrease=0.0, min_impurity_split=None,\n",
       "            min_samples_leaf=1, min_samples_split=2,\n",
       "            min_weight_fraction_leaf=0.0, presort=False, random_state=None,\n",
       "            splitter='best'),\n",
       "          learning_rate=0.5, n_estimators=200, random_state=None)"
      ]
     },
     "execution_count": 256,
     "metadata": {},
     "output_type": "execute_result"
    }
   ],
   "source": [
    "ada_clf.fit(X_train,y_train)"
   ]
  },
  {
   "cell_type": "code",
   "execution_count": 257,
   "metadata": {},
   "outputs": [],
   "source": [
    "y_pred = ada_clf.predict(X_test)"
   ]
  },
  {
   "cell_type": "code",
   "execution_count": 258,
   "metadata": {},
   "outputs": [
    {
     "data": {
      "text/plain": [
       "0.90400000000000003"
      ]
     },
     "execution_count": 258,
     "metadata": {},
     "output_type": "execute_result"
    }
   ],
   "source": [
    "accuracy_score(y_test,y_pred)"
   ]
  },
  {
   "cell_type": "code",
   "execution_count": 259,
   "metadata": {},
   "outputs": [],
   "source": [
    "import numpy as np\n"
   ]
  },
  {
   "cell_type": "code",
   "execution_count": 260,
   "metadata": {},
   "outputs": [],
   "source": [
    "X = 3 * np.random.randn(1000)"
   ]
  },
  {
   "cell_type": "code",
   "execution_count": 265,
   "metadata": {},
   "outputs": [],
   "source": [
    "y = X**2 + 5*np.random.randn(1000)"
   ]
  },
  {
   "cell_type": "code",
   "execution_count": 271,
   "metadata": {},
   "outputs": [
    {
     "data": {
      "image/png": "[encoded data removed]",
      "text/plain": [
       "<matplotlib.figure.Figure at 0x7f78a4f89ba8>"
      ]
     },
     "metadata": {},
     "output_type": "display_data"
    }
   ],
   "source": [
    "plt.plot(X,y,'b.')\n",
    "X = X.reshape(-1,1)"
   ]
  },
  {
   "cell_type": "code",
   "execution_count": 272,
   "metadata": {},
   "outputs": [],
   "source": [
    "from sklearn.tree import DecisionTreeRegressor"
   ]
  },
  {
   "cell_type": "code",
   "execution_count": 273,
   "metadata": {},
   "outputs": [],
   "source": [
    "tree_reg1 = DecisionTreeRegressor(max_depth =2)"
   ]
  },
  {
   "cell_type": "code",
   "execution_count": 274,
   "metadata": {},
   "outputs": [],
   "source": [
    "X_train ,X_val, y_train, y_val = train_test_split(X,y,test_size=0.2)"
   ]
  },
  {
   "cell_type": "code",
   "execution_count": 275,
   "metadata": {},
   "outputs": [
    {
     "data": {
      "text/plain": [
       "DecisionTreeRegressor(criterion='mse', max_depth=2, max_features=None,\n",
       "           max_leaf_nodes=None, min_impurity_decrease=0.0,\n",
       "           min_impurity_split=None, min_samples_leaf=1,\n",
       "           min_samples_split=2, min_weight_fraction_leaf=0.0,\n",
       "           presort=False, random_state=None, splitter='best')"
      ]
     },
     "execution_count": 275,
     "metadata": {},
     "output_type": "execute_result"
    }
   ],
   "source": [
    "tree_reg1.fit(X_train,y_train)"
   ]
  },
  {
   "cell_type": "code",
   "execution_count": 276,
   "metadata": {},
   "outputs": [],
   "source": [
    "y2_train = y_train -tree_reg1.predict(X_train)"
   ]
  },
  {
   "cell_type": "code",
   "execution_count": 277,
   "metadata": {},
   "outputs": [],
   "source": [
    "tree_reg2 = DecisionTreeRegressor(max_depth =2)"
   ]
  },
  {
   "cell_type": "code",
   "execution_count": 278,
   "metadata": {},
   "outputs": [
    {
     "data": {
      "text/plain": [
       "DecisionTreeRegressor(criterion='mse', max_depth=2, max_features=None,\n",
       "           max_leaf_nodes=None, min_impurity_decrease=0.0,\n",
       "           min_impurity_split=None, min_samples_leaf=1,\n",
       "           min_samples_split=2, min_weight_fraction_leaf=0.0,\n",
       "           presort=False, random_state=None, splitter='best')"
      ]
     },
     "execution_count": 278,
     "metadata": {},
     "output_type": "execute_result"
    }
   ],
   "source": [
    "tree_reg2.fit(X_train,y2_train)"
   ]
  },
  {
   "cell_type": "code",
   "execution_count": 279,
   "metadata": {},
   "outputs": [],
   "source": [
    "y3_train = y2_train - tree_reg2.predict(X_train)"
   ]
  },
  {
   "cell_type": "code",
   "execution_count": 280,
   "metadata": {},
   "outputs": [],
   "source": [
    "tree_reg3 = DecisionTreeRegressor(max_depth =2)"
   ]
  },
  {
   "cell_type": "code",
   "execution_count": 281,
   "metadata": {},
   "outputs": [
    {
     "data": {
      "text/plain": [
       "DecisionTreeRegressor(criterion='mse', max_depth=2, max_features=None,\n",
       "           max_leaf_nodes=None, min_impurity_decrease=0.0,\n",
       "           min_impurity_split=None, min_samples_leaf=1,\n",
       "           min_samples_split=2, min_weight_fraction_leaf=0.0,\n",
       "           presort=False, random_state=None, splitter='best')"
      ]
     },
     "execution_count": 281,
     "metadata": {},
     "output_type": "execute_result"
    }
   ],
   "source": [
    "tree_reg3.fit(X_train,y3_train)"
   ]
  },
  {
   "cell_type": "code",
   "execution_count": 283,
   "metadata": {},
   "outputs": [],
   "source": [
    "y_pred = sum(tree.predict(X_val) for tree in (tree_reg1,tree_reg2,tree_reg3))"
   ]
  },
  {
   "cell_type": "code",
   "execution_count": 285,
   "metadata": {},
   "outputs": [],
   "source": [
    "from sklearn.metrics import mean_squared_error"
   ]
  },
  {
   "cell_type": "code",
   "execution_count": 286,
   "metadata": {},
   "outputs": [],
   "source": [
    "mse = mean_squared_error(y_pred,y_val)"
   ]
  },
  {
   "cell_type": "code",
   "execution_count": 287,
   "metadata": {},
   "outputs": [
    {
     "data": {
      "text/plain": [
       "6.5517421708610888"
      ]
     },
     "execution_count": 287,
     "metadata": {},
     "output_type": "execute_result"
    }
   ],
   "source": [
    "np.sqrt(mse)"
   ]
  },
  {
   "cell_type": "code",
   "execution_count": 288,
   "metadata": {},
   "outputs": [],
   "source": [
    "from sklearn.ensemble import GradientBoostingRegressor"
   ]
  },
  {
   "cell_type": "code",
   "execution_count": 293,
   "metadata": {},
   "outputs": [],
   "source": [
    "gbrt = GradientBoostingRegressor(max_depth = 2, n_estimators = 4, learning_rate =1.0)"
   ]
  },
  {
   "cell_type": "code",
   "execution_count": 294,
   "metadata": {},
   "outputs": [
    {
     "data": {
      "text/plain": [
       "GradientBoostingRegressor(alpha=0.9, criterion='friedman_mse', init=None,\n",
       "             learning_rate=1.0, loss='ls', max_depth=2, max_features=None,\n",
       "             max_leaf_nodes=None, min_impurity_decrease=0.0,\n",
       "             min_impurity_split=None, min_samples_leaf=1,\n",
       "             min_samples_split=2, min_weight_fraction_leaf=0.0,\n",
       "             n_estimators=4, presort='auto', random_state=None,\n",
       "             subsample=1.0, verbose=0, warm_start=False)"
      ]
     },
     "execution_count": 294,
     "metadata": {},
     "output_type": "execute_result"
    }
   ],
   "source": [
    "gbrt.fit(X_train,y_train)"
   ]
  },
  {
   "cell_type": "code",
   "execution_count": 295,
   "metadata": {},
   "outputs": [
    {
     "data": {
      "text/plain": [
       "6.1709327335213278"
      ]
     },
     "execution_count": 295,
     "metadata": {},
     "output_type": "execute_result"
    }
   ],
   "source": [
    "y_pred = gbrt.predict(X_val)\n",
    "mse = mean_squared_error(y_val,y_pred)\n",
    "np.sqrt(mse)"
   ]
  },
  {
   "cell_type": "code",
   "execution_count": 297,
   "metadata": {},
   "outputs": [],
   "source": [
    "gbrt = GradientBoostingRegressor(max_depth =2,n_estimators =120)"
   ]
  },
  {
   "cell_type": "code",
   "execution_count": 298,
   "metadata": {},
   "outputs": [
    {
     "data": {
      "text/plain": [
       "GradientBoostingRegressor(alpha=0.9, criterion='friedman_mse', init=None,\n",
       "             learning_rate=0.1, loss='ls', max_depth=2, max_features=None,\n",
       "             max_leaf_nodes=None, min_impurity_decrease=0.0,\n",
       "             min_impurity_split=None, min_samples_leaf=1,\n",
       "             min_samples_split=2, min_weight_fraction_leaf=0.0,\n",
       "             n_estimators=120, presort='auto', random_state=None,\n",
       "             subsample=1.0, verbose=0, warm_start=False)"
      ]
     },
     "execution_count": 298,
     "metadata": {},
     "output_type": "execute_result"
    }
   ],
   "source": [
    "gbrt.fit(X_train,y_train)"
   ]
  },
  {
   "cell_type": "code",
   "execution_count": 299,
   "metadata": {},
   "outputs": [],
   "source": [
    "errors = [mean_squared_error(y_val,y_pred) for y_pred in gbrt.staged_predict(X_val)]"
   ]
  },
  {
   "cell_type": "code",
   "execution_count": 300,
   "metadata": {},
   "outputs": [],
   "source": [
    "best_n_estimators = np.argmin(errors)"
   ]
  },
  {
   "cell_type": "code",
   "execution_count": 301,
   "metadata": {},
   "outputs": [
    {
     "data": {
      "text/plain": [
       "115"
      ]
     },
     "execution_count": 301,
     "metadata": {},
     "output_type": "execute_result"
    }
   ],
   "source": [
    "best_n_estimators"
   ]
  },
  {
   "cell_type": "code",
   "execution_count": 313,
   "metadata": {},
   "outputs": [],
   "source": [
    "gbrt =GradientBoostingRegressor(max_depth = 2, warm_start = True)"
   ]
  },
  {
   "cell_type": "code",
   "execution_count": 314,
   "metadata": {},
   "outputs": [],
   "source": [
    "min_val_error = float('inf')"
   ]
  },
  {
   "cell_type": "code",
   "execution_count": 315,
   "metadata": {},
   "outputs": [],
   "source": [
    "error_going_up = 0"
   ]
  },
  {
   "cell_type": "code",
   "execution_count": 316,
   "metadata": {},
   "outputs": [],
   "source": [
    "for n_estimators in range(1,120):\n",
    "    gbrt.n_estimators = n_estimators\n",
    "    gbrt.fit(X_train,y_train)\n",
    "    y_pred = gbrt.predict(X_val)\n",
    "    val_error = mean_squared_error(y_val,y_pred)\n",
    "    if val_error<min_val_error:\n",
    "        min_val_error = val_error\n",
    "        error_going_up = 0\n",
    "    else:\n",
    "        error_going_up +=1\n",
    "        if error_going_up == 5:\n",
    "            break\n"
   ]
  },
  {
   "cell_type": "code",
   "execution_count": 317,
   "metadata": {},
   "outputs": [
    {
     "data": {
      "text/plain": [
       "87"
      ]
     },
     "execution_count": 317,
     "metadata": {},
     "output_type": "execute_result"
    }
   ],
   "source": [
    "n_estimators"
   ]
  },
  {
   "cell_type": "code",
   "execution_count": 1,
   "metadata": {},
   "outputs": [],
   "source": [
    "from sklearn.datasets import fetch_mldata"
   ]
  },
  {
   "cell_type": "code",
   "execution_count": 2,
   "metadata": {},
   "outputs": [],
   "source": [
    "mnist = fetch_mldata('MNIST original')"
   ]
  },
  {
   "cell_type": "code",
   "execution_count": 3,
   "metadata": {},
   "outputs": [],
   "source": [
    "X, y  = mnist['data'], mnist['target']"
   ]
  },
  {
   "cell_type": "code",
   "execution_count": 4,
   "metadata": {},
   "outputs": [
    {
     "data": {
      "text/plain": [
       "(70000, 784)"
      ]
     },
     "execution_count": 4,
     "metadata": {},
     "output_type": "execute_result"
    }
   ],
   "source": [
    "X.shape"
   ]
  },
  {
   "cell_type": "code",
   "execution_count": 5,
   "metadata": {},
   "outputs": [],
   "source": [
    "X_test, y_test = X[60000:],y[60000:]"
   ]
  },
  {
   "cell_type": "code",
   "execution_count": 6,
   "metadata": {},
   "outputs": [],
   "source": [
    "from sklearn.model_selection import train_test_split"
   ]
  },
  {
   "cell_type": "code",
   "execution_count": 7,
   "metadata": {},
   "outputs": [],
   "source": [
    "X_train, y_train = X[:60000],y[:60000]"
   ]
  },
  {
   "cell_type": "code",
   "execution_count": 26,
   "metadata": {},
   "outputs": [],
   "source": [
    "from sklearn.linear_model import LogisticRegression"
   ]
  },
  {
   "cell_type": "code",
   "execution_count": 27,
   "metadata": {},
   "outputs": [],
   "source": [
    "log_clf = LogisticRegression(random_state =42)"
   ]
  },
  {
   "cell_type": "code",
   "execution_count": 28,
   "metadata": {},
   "outputs": [],
   "source": [
    "from sklearn.ensemble import RandomForestClassifier"
   ]
  },
  {
   "cell_type": "code",
   "execution_count": 29,
   "metadata": {},
   "outputs": [],
   "source": [
    "forest_clf = RandomForestClassifier()"
   ]
  },
  {
   "cell_type": "code",
   "execution_count": 30,
   "metadata": {},
   "outputs": [],
   "source": [
    "from sklearn.ensemble import ExtraTreesClassifier"
   ]
  },
  {
   "cell_type": "code",
   "execution_count": 31,
   "metadata": {},
   "outputs": [],
   "source": [
    "extra_clf = ExtraTreesClassifier()"
   ]
  },
  {
   "cell_type": "code",
   "execution_count": 32,
   "metadata": {},
   "outputs": [],
   "source": [
    "from sklearn.svm import SVC"
   ]
  },
  {
   "cell_type": "code",
   "execution_count": 33,
   "metadata": {},
   "outputs": [],
   "source": [
    "svc_clf = SVC()"
   ]
  },
  {
   "cell_type": "code",
   "execution_count": 34,
   "metadata": {},
   "outputs": [],
   "source": [
    "from sklearn.ensemble import VotingClassifier"
   ]
  },
  {
   "cell_type": "code",
   "execution_count": 35,
   "metadata": {},
   "outputs": [],
   "source": [
    "voting_clf = VotingClassifier(estimators=[('lr',log_clf),('fc',forest_clf),('ec',extra_clf),('sc',svc_clf)])"
   ]
  },
  {
   "cell_type": "code",
   "execution_count": 36,
   "metadata": {},
   "outputs": [
    {
     "name": "stdout",
     "output_type": "stream",
     "text": [
      "LogisticRegression 0.822\n",
      "RandomForestClassifier 0.89\n",
      "ExtraTreesClassifier 0.884\n",
      "SVC 0.916\n",
      "VotingClassifier 0.892\n"
     ]
    }
   ],
   "source": [
    "from sklearn.metrics import accuracy_score\n",
    "for clf in (log_clf, forest_clf, extra_clf, svc_clf, voting_clf):\n",
    "    clf.fit(X_train,y_train)\n",
    "    y_pred = clf.predict(X_test)\n",
    "    print(clf.__class__.__name__,accuracy_score(y_test,y_pred))"
   ]
  },
  {
   "cell_type": "code",
   "execution_count": 48,
   "metadata": {},
   "outputs": [],
   "source": [
    "y_pred1 = log_clf.predict(X_val)\n",
    "y_pred2 = forest_clf.predict(X_val)\n",
    "y_pred3 = extra_clf.predict(X_val)\n",
    "y_pred4 = svc_clf.predict(X_val)\n",
    "y_pred5 = voting_clf.predict(X_val)"
   ]
  },
  {
   "cell_type": "code",
   "execution_count": 51,
   "metadata": {},
   "outputs": [],
   "source": [
    "import numpy as np\n",
    "y_train2 = np.c_[y_pred1,y_pred2,y_pred3,y_pred4,y_pred5]"
   ]
  },
  {
   "cell_type": "code",
   "execution_count": 52,
   "metadata": {},
   "outputs": [
    {
     "data": {
      "text/plain": [
       "(450, 5)"
      ]
     },
     "execution_count": 52,
     "metadata": {},
     "output_type": "execute_result"
    }
   ],
   "source": [
    "y_train2.shape"
   ]
  },
  {
   "cell_type": "code",
   "execution_count": 53,
   "metadata": {},
   "outputs": [],
   "source": [
    "svc_clf2 = SVC()"
   ]
  },
  {
   "cell_type": "code",
   "execution_count": 54,
   "metadata": {},
   "outputs": [
    {
     "data": {
      "text/plain": [
       "SVC(C=1.0, cache_size=200, class_weight=None, coef0=0.0,\n",
       "  decision_function_shape='ovr', degree=3, gamma='auto', kernel='rbf',\n",
       "  max_iter=-1, probability=False, random_state=None, shrinking=True,\n",
       "  tol=0.001, verbose=False)"
      ]
     },
     "execution_count": 54,
     "metadata": {},
     "output_type": "execute_result"
    }
   ],
   "source": [
    "svc_clf2.fit(y_train2,y_val)"
   ]
  },
  {
   "cell_type": "code",
   "execution_count": 55,
   "metadata": {},
   "outputs": [],
   "source": [
    "y_pred1 = log_clf.predict(X_test)\n",
    "y_pred2 = forest_clf.predict(X_test)\n",
    "y_pred3 = extra_clf.predict(X_test)\n",
    "y_pred4 = svc_clf.predict(X_test)\n",
    "y_pred5 = voting_clf.predict(X_test)"
   ]
  },
  {
   "cell_type": "code",
   "execution_count": 56,
   "metadata": {},
   "outputs": [],
   "source": [
    "y_test1 = np.c_[y_pred1,y_pred2,y_pred3,y_pred4,y_pred5]"
   ]
  },
  {
   "cell_type": "code",
   "execution_count": 57,
   "metadata": {},
   "outputs": [],
   "source": [
    "y_pred = svc_clf2.predict(y_test1)"
   ]
  },
  {
   "cell_type": "code",
   "execution_count": 58,
   "metadata": {},
   "outputs": [
    {
     "data": {
      "text/plain": [
       "0.89400000000000002"
      ]
     },
     "execution_count": 58,
     "metadata": {},
     "output_type": "execute_result"
    }
   ],
   "source": [
    "accuracy_score(y_pred,y_test)"
   ]
  },
  {
   "cell_type": "code",
   "execution_count": 59,
   "metadata": {},
   "outputs": [
    {
     "data": {
      "text/plain": [
       "array([[1, 1, 1, 1, 1],\n",
       "       [1, 1, 1, 1, 1],\n",
       "       [0, 1, 0, 1, 0],\n",
       "       ..., \n",
       "       [1, 1, 1, 1, 1],\n",
       "       [0, 0, 0, 0, 0],\n",
       "       [0, 0, 0, 0, 0]])"
      ]
     },
     "execution_count": 59,
     "metadata": {},
     "output_type": "execute_result"
    }
   ],
   "source": [
    "y_test1"
   ]
  },
  {
   "cell_type": "code",
   "execution_count": null,
   "metadata": {},
   "outputs": [],
   "source": []
  }
 ],
 "metadata": {
  "kernelspec": {
   "display_name": "Python 3",
   "language": "python",
   "name": "python3"
  },
  "language_info": {
   "codemirror_mode": {
    "name": "ipython",
    "version": 3
   },
   "file_extension": ".py",
   "mimetype": "text/x-python",
   "name": "python",
   "nbconvert_exporter": "python",
   "pygments_lexer": "ipython3",
   "version": "3.5.2"
  }
 },
 "nbformat": 4,
 "nbformat_minor": 2
}
