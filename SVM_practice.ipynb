{
 "cells": [
  {
   "cell_type": "code",
   "execution_count": 7,
   "metadata": {},
   "outputs": [],
   "source": [
    "from sklearn import datasets\n",
    "from sklearn.pipeline import Pipeline\n",
    "from sklearn.svm import LinearSVC\n",
    "import numpy as np\n",
    "from sklearn.preprocessing import StandardScaler"
   ]
  },
  {
   "cell_type": "code",
   "execution_count": 3,
   "metadata": {},
   "outputs": [],
   "source": [
    "iris = datasets.load_iris()"
   ]
  },
  {
   "cell_type": "code",
   "execution_count": 4,
   "metadata": {},
   "outputs": [],
   "source": [
    "X = iris[\"data\"][:,(2,3)]"
   ]
  },
  {
   "cell_type": "code",
   "execution_count": 6,
   "metadata": {},
   "outputs": [],
   "source": [
    "y = (iris[\"target\"]==2).astype(float)"
   ]
  },
  {
   "cell_type": "code",
   "execution_count": 8,
   "metadata": {},
   "outputs": [],
   "source": [
    "svc_clf = Pipeline(((\"scaled_values\",StandardScaler()),(\"support_clf\",LinearSVC(loss = \"hinge\",C=1))))"
   ]
  },
  {
   "cell_type": "code",
   "execution_count": 9,
   "metadata": {},
   "outputs": [
    {
     "data": {
      "text/plain": [
       "Pipeline(memory=None,\n",
       "     steps=[('scaled_values', StandardScaler(copy=True, with_mean=True, with_std=True)), ('support_clf', LinearSVC(C=1, class_weight=None, dual=True, fit_intercept=True,\n",
       "     intercept_scaling=1, loss='hinge', max_iter=1000, multi_class='ovr',\n",
       "     penalty='l2', random_state=None, tol=0.0001, verbose=0))])"
      ]
     },
     "execution_count": 9,
     "metadata": {},
     "output_type": "execute_result"
    }
   ],
   "source": [
    "svc_clf.fit(X,y)"
   ]
  },
  {
   "cell_type": "code",
   "execution_count": 10,
   "metadata": {},
   "outputs": [
    {
     "data": {
      "text/plain": [
       "array([ 1.])"
      ]
     },
     "execution_count": 10,
     "metadata": {},
     "output_type": "execute_result"
    }
   ],
   "source": [
    "svc_clf.predict([[5.5 , 1.7]])"
   ]
  },
  {
   "cell_type": "code",
   "execution_count": 13,
   "metadata": {},
   "outputs": [],
   "source": [
    "from sklearn.datasets import make_moons"
   ]
  },
  {
   "cell_type": "code",
   "execution_count": 17,
   "metadata": {},
   "outputs": [
    {
     "data": {
      "text/plain": [
       "<function sklearn.datasets.samples_generator.make_moons>"
      ]
     },
     "execution_count": 17,
     "metadata": {},
     "output_type": "execute_result"
    }
   ],
   "source": [
    "make_moons"
   ]
  },
  {
   "cell_type": "code",
   "execution_count": 18,
   "metadata": {},
   "outputs": [],
   "source": [
    "X, y  = make_moons()"
   ]
  },
  {
   "cell_type": "code",
   "execution_count": 20,
   "metadata": {},
   "outputs": [],
   "source": [
    "from sklearn.preprocessing import PolynomialFeatures"
   ]
  },
  {
   "cell_type": "code",
   "execution_count": 21,
   "metadata": {},
   "outputs": [],
   "source": [
    "#pp = PolynomialFeatures(degree = 2)"
   ]
  },
  {
   "cell_type": "code",
   "execution_count": 22,
   "metadata": {},
   "outputs": [
    {
     "data": {
      "text/plain": [
       "array([[ 1.,  2.,  4.]])"
      ]
     },
     "execution_count": 22,
     "metadata": {},
     "output_type": "execute_result"
    }
   ],
   "source": [
    "#pp.fit_transform([[2]])"
   ]
  },
  {
   "cell_type": "code",
   "execution_count": null,
   "metadata": {},
   "outputs": [],
   "source": []
  },
  {
   "cell_type": "code",
   "execution_count": 24,
   "metadata": {},
   "outputs": [],
   "source": [
    "poly_svc_clf = Pipeline(((\"poly_reg\",PolynomialFeatures(degree = 3,include_bias =False)),(\"std_sca\",StandardScaler()),(\"clf\",LinearSVC(loss = \"hinge\",C=1))))"
   ]
  },
  {
   "cell_type": "code",
   "execution_count": 29,
   "metadata": {},
   "outputs": [
    {
     "data": {
      "text/plain": [
       "Pipeline(memory=None,\n",
       "     steps=[('poly_reg', PolynomialFeatures(degree=3, include_bias=False, interaction_only=False)), ('std_sca', StandardScaler(copy=True, with_mean=True, with_std=True)), ('clf', LinearSVC(C=1, class_weight=None, dual=True, fit_intercept=True,\n",
       "     intercept_scaling=1, loss='hinge', max_iter=1000, multi_class='ovr',\n",
       "     penalty='l2', random_state=None, tol=0.0001, verbose=0))])"
      ]
     },
     "execution_count": 29,
     "metadata": {},
     "output_type": "execute_result"
    }
   ],
   "source": [
    "poly_svc_clf.fit(X,y)"
   ]
  },
  {
   "cell_type": "code",
   "execution_count": 26,
   "metadata": {},
   "outputs": [],
   "source": [
    "from sklearn.svm import SVC"
   ]
  },
  {
   "cell_type": "code",
   "execution_count": 27,
   "metadata": {},
   "outputs": [],
   "source": [
    "poly_svc = Pipeline(((\"std_scaler\",StandardScaler()),(\"clff\",SVC(kernel = \"poly\",C=10,degree=3,coef0=1))))"
   ]
  },
  {
   "cell_type": "code",
   "execution_count": 28,
   "metadata": {},
   "outputs": [
    {
     "data": {
      "text/plain": [
       "Pipeline(memory=None,\n",
       "     steps=[('std_scaler', StandardScaler(copy=True, with_mean=True, with_std=True)), ('clff', SVC(C=10, cache_size=200, class_weight=None, coef0=1,\n",
       "  decision_function_shape='ovr', degree=3, gamma='auto', kernel='poly',\n",
       "  max_iter=-1, probability=False, random_state=None, shrinking=True,\n",
       "  tol=0.001, verbose=False))])"
      ]
     },
     "execution_count": 28,
     "metadata": {},
     "output_type": "execute_result"
    }
   ],
   "source": [
    "poly_svc.fit(X,y)"
   ]
  },
  {
   "cell_type": "code",
   "execution_count": 30,
   "metadata": {},
   "outputs": [
    {
     "data": {
      "text/plain": [
       "array([0, 1, 0, 1, 1, 1, 0, 1, 0, 1, 1, 1, 1, 1, 0, 0, 0, 1, 0, 1, 0, 1, 0,\n",
       "       1, 0, 0, 0, 0, 0, 1, 1, 1, 1, 0, 1, 1, 1, 1, 1, 1, 1, 1, 1, 0, 0, 1,\n",
       "       0, 1, 0, 1, 1, 0, 1, 0, 1, 1, 0, 1, 0, 1, 0, 0, 0, 0, 0, 0, 1, 0, 0,\n",
       "       0, 0, 1, 0, 0, 1, 0, 1, 1, 0, 1, 0, 1, 0, 0, 1, 0, 0, 1, 0, 0, 0, 1,\n",
       "       0, 0, 0, 1, 1, 0, 1, 1])"
      ]
     },
     "execution_count": 30,
     "metadata": {},
     "output_type": "execute_result"
    }
   ],
   "source": [
    "y"
   ]
  },
  {
   "cell_type": "code",
   "execution_count": 31,
   "metadata": {},
   "outputs": [],
   "source": [
    "rbf_pipe = Pipeline(((\"std_sca\",StandardScaler()),(\"rf\",SVC(kernel = \"rbf\",gamma = 3,C = 0.0001))))"
   ]
  },
  {
   "cell_type": "code",
   "execution_count": 32,
   "metadata": {},
   "outputs": [
    {
     "data": {
      "text/plain": [
       "Pipeline(memory=None,\n",
       "     steps=[('std_sca', StandardScaler(copy=True, with_mean=True, with_std=True)), ('rf', SVC(C=0.0001, cache_size=200, class_weight=None, coef0=0.0,\n",
       "  decision_function_shape='ovr', degree=3, gamma=3, kernel='rbf',\n",
       "  max_iter=-1, probability=False, random_state=None, shrinking=True,\n",
       "  tol=0.001, verbose=False))])"
      ]
     },
     "execution_count": 32,
     "metadata": {},
     "output_type": "execute_result"
    }
   ],
   "source": [
    "rbf_pipe.fit(X,y)"
   ]
  },
  {
   "cell_type": "code",
   "execution_count": 80,
   "metadata": {},
   "outputs": [],
   "source": [
    "A = 4*np.random.random((1000,1))+np.random.randn(1000)"
   ]
  },
  {
   "cell_type": "code",
   "execution_count": 81,
   "metadata": {},
   "outputs": [
    {
     "data": {
      "text/plain": [
       "7.5350767024484293"
      ]
     },
     "execution_count": 81,
     "metadata": {},
     "output_type": "execute_result"
    }
   ],
   "source": [
    "A.max()"
   ]
  },
  {
   "cell_type": "code",
   "execution_count": 82,
   "metadata": {},
   "outputs": [
    {
     "data": {
      "image/png": "[encoded data removed]",
      "text/plain": [
       "<matplotlib.figure.Figure at 0x7fc5719936d8>"
      ]
     },
     "metadata": {},
     "output_type": "display_data"
    }
   ],
   "source": [
    "import matplotlib.pyplot as plt\n",
    "plt.plot(A,\"b.\")\n",
    "plt.show()"
   ]
  },
  {
   "cell_type": "code",
   "execution_count": 71,
   "metadata": {},
   "outputs": [],
   "source": []
  },
  {
   "cell_type": "code",
   "execution_count": 72,
   "metadata": {},
   "outputs": [
    {
     "data": {
      "text/plain": [
       "array([  3.45789188e+00,   1.80258847e+01,   6.46421159e-01,\n",
       "         5.00647087e+00,   2.27891276e+01,   3.92007605e+01,\n",
       "         1.37980488e+01,   2.71262488e+00,  -3.18121852e-01,\n",
       "         5.87189388e+01,   1.23736988e+01,   8.95131959e+00,\n",
       "         2.68471714e+01,  -4.17417061e-01,   1.69297679e+00,\n",
       "         2.70688689e+01,   1.28411698e+01,   1.71995058e+01,\n",
       "         3.63668293e+01,   1.78242872e+01,   1.64357829e+01,\n",
       "         1.41691308e+01,   3.81325938e+01,   1.00635468e+01,\n",
       "         8.85197386e+00,   3.61641346e+01,   1.66541043e+01,\n",
       "         1.67555851e+01,   3.57101502e+01,   4.91445955e+00,\n",
       "         1.01413998e+01,   1.07884470e+01,   2.28151285e+01,\n",
       "         2.72744569e+01,   1.41642369e+01,  -2.28799471e+00,\n",
       "         2.85686578e+01,   4.58035854e-01,   1.57516679e+01,\n",
       "        -2.25676603e+00,   1.90736234e+01,   1.57611276e+00,\n",
       "         2.94780213e+01,   2.98560145e+01,   5.58228985e+00,\n",
       "         3.16268007e+01,   4.55765385e+01,   1.58091254e+00,\n",
       "         1.07495453e+01,   9.96699269e-01,   1.57743629e+01,\n",
       "         1.05806563e+01,   4.72114758e+01,   6.62838763e+00,\n",
       "         2.09024554e+01,   3.80628511e+01,   6.77412279e+00,\n",
       "         3.55748793e+01,   4.26322672e+01,   6.14749571e+00,\n",
       "         3.57495426e+01,   2.10866667e+01,   2.63339333e+01,\n",
       "         1.54408812e+01,   2.33612281e+01,   2.27348378e+01,\n",
       "         1.09171739e+01,   3.04445273e+01,   3.61838258e+00,\n",
       "         3.56956470e+01,   1.44713886e+01,   2.09852274e+01,\n",
       "         1.95669237e+01,  -2.83862887e+00,   2.98945425e+01,\n",
       "         1.52090705e+01,  -3.68348517e-01,  -3.34390782e+00,\n",
       "         8.96032762e-01,   1.57282870e+01,   1.06604588e+01,\n",
       "         1.56165298e+01,   3.70185750e+00,   4.79028531e+01,\n",
       "         2.07678874e+01,   3.82341818e+01,   6.68866664e-01,\n",
       "        -5.99862153e+00,   2.45624414e+01,   8.83196226e+00,\n",
       "         2.69107205e+01,   3.97949838e+01,   7.32093225e+00,\n",
       "         6.84481681e+00,   5.40900142e+00,   1.80605535e+01,\n",
       "        -2.40197221e+00,   8.95462939e+00,   6.26433580e+01,\n",
       "         5.29007710e+00,   3.03727150e+01,   1.60172030e+01,\n",
       "         3.05869179e+01,   3.08369853e+01,   5.49739839e+00,\n",
       "         2.18806037e+01,   5.50508828e+01,   3.27018282e+01,\n",
       "         1.30353583e+01,   2.90061443e+01,   1.05714211e+01,\n",
       "         1.30888134e+01,   2.34116935e+00,   7.32415552e+00,\n",
       "         1.75085501e+01,   1.22743591e+01,  -4.01455153e+00,\n",
       "         1.88010273e+01,   8.50264938e+00,   3.38870989e+00,\n",
       "         2.88310191e-01,   1.30695581e+00,   1.68772652e+01,\n",
       "        -7.40807863e-01,   3.57083443e+00,   1.48240415e+01,\n",
       "        -3.14350794e+00,   2.32972730e+01,   6.65761429e+00,\n",
       "         1.89788480e+00,   3.67149009e+01,  -1.64111839e+00,\n",
       "         1.26957220e+01,   5.70714526e+00,   4.11716463e+01,\n",
       "         1.45311631e+01,   3.37945321e+01,   1.91983029e+01,\n",
       "         9.08758294e+00,   1.87742419e+01,   9.62735205e+00,\n",
       "         1.36109537e+01,   2.29686196e+01,   1.74415593e+01,\n",
       "         8.62608241e+00,   4.65834997e+01,   8.78082662e+00,\n",
       "        -2.63090246e+00,   2.87480592e+01,   1.79825035e+01,\n",
       "         3.19479605e+01,   6.93173794e+00,   2.37901383e+00,\n",
       "         2.21967451e+01,   2.87396421e+01,   2.25901006e+01,\n",
       "         5.46588340e+00,   2.64114281e+01,   2.10972782e+01,\n",
       "        -2.63960058e+00,   5.19385771e-01,  -3.28440353e+00,\n",
       "         4.37539928e+01,  -7.38455200e-01,   1.58079468e+01,\n",
       "         8.57843357e+00,   1.51477671e+01,   6.34589812e+00,\n",
       "         6.39711122e+00,  -4.91847311e+00,   9.85096368e+00,\n",
       "         1.55870290e+01,   3.23297300e+01,   1.75957027e+01,\n",
       "         4.25109935e+01,  -6.19459399e+00,   1.30481538e+01,\n",
       "         1.87253371e+01,   2.93710370e+01,  -6.69139018e-01,\n",
       "         1.03078761e+01,  -1.07343363e-01,   2.63978491e+01,\n",
       "         1.93422414e+01,   2.44802039e+01,   1.04290583e+01,\n",
       "         4.15524374e+01,   5.35109797e+01,  -2.03048079e+00,\n",
       "        -3.18890689e+00,   4.40418991e+01,  -6.51277334e+00,\n",
       "         2.92629712e-01,   2.61387144e+01,   2.91619790e+00,\n",
       "         3.80084040e+00,   1.45228190e+00,   3.04561609e+01,\n",
       "        -3.28612810e+00,   2.51245308e+01,   3.13637278e+01,\n",
       "        -1.83678581e+00,  -4.13582445e+00,   1.28362291e+01,\n",
       "         5.20480345e-01,   7.63630354e+00,   6.36705558e+01,\n",
       "         3.51641650e+01,   1.59478060e+01,   2.01128652e+01,\n",
       "         1.17623423e+01,   3.24283582e+01,   1.15459477e+01,\n",
       "         4.66339469e+01,   4.43807400e+01,   1.87852937e+01,\n",
       "         1.10255294e+01,   4.41007090e+00,   6.16637522e+00,\n",
       "         8.52635112e+00,   2.53468398e+01,   8.07913122e+00,\n",
       "         5.45815914e+01,  -4.72353249e+00,   3.26998822e+01,\n",
       "         1.07925549e+01,  -3.06376265e+00,   1.72468575e+01,\n",
       "        -8.04698123e-01,   9.92303094e+00,   1.19404927e+01,\n",
       "         3.75449011e+01,   1.92943909e+01,   8.17397550e+00,\n",
       "         2.71188698e+01,   2.98300976e+00,   8.68114029e+00,\n",
       "         1.31695517e+01,   3.36948548e+01,   3.54407495e+01,\n",
       "         1.87727669e+01,   2.38790744e-01,   6.99278182e+00,\n",
       "         2.58175060e+00,   2.06240445e+00,   6.00442998e+00,\n",
       "         9.99410692e-01,   1.91888774e+01,   2.22735840e+01,\n",
       "        -2.85873098e+00,   6.16565313e+00,   2.20775884e+01,\n",
       "         1.90632082e+01,   1.37395320e+01,   4.04485233e+01,\n",
       "         1.04985288e+01,  -5.34122427e+00,   3.09160065e+01,\n",
       "         1.02862097e+01,   2.38221851e+01,   2.90921635e+01,\n",
       "        -7.92785234e-01,   2.81555357e+01,  -3.69865145e+00,\n",
       "         1.63762604e+01,   3.43469570e+00,  -3.01160999e-01,\n",
       "         1.38303097e+01,   3.29325678e+01,   2.96831318e+01,\n",
       "        -1.49311495e-01,   3.30824191e+01,   3.82166353e+01,\n",
       "         6.92145989e+00,   5.65623806e+00,   2.18336868e+01,\n",
       "         3.20405527e+01,   2.02121921e+01,   1.25096282e+01,\n",
       "         1.70061257e-01,   1.04895227e+01,   4.19838241e+00,\n",
       "         1.50996605e+01,   1.55835917e+01,   4.64142729e-01,\n",
       "         1.67363544e+01,   2.51710111e+01,   2.19073645e+01,\n",
       "         1.44119445e+01,   1.32001297e+01,   9.01365011e+00,\n",
       "         1.43475295e+01,   1.88231920e+01,   3.11633494e+00,\n",
       "         5.49861249e-01,   9.94332320e+00,   2.65839361e+01,\n",
       "         2.54016715e+00,   6.56714004e+00,   1.35347707e+01,\n",
       "         1.91478031e+00,   1.54790180e+01,   2.27181748e+01,\n",
       "         3.92279829e+01,   9.87759212e+00,   2.70152853e+01,\n",
       "         3.05702828e+01,  -2.68498069e+00,  -4.53124705e+00,\n",
       "         2.34595762e+01,   1.00617907e+01,  -3.63169603e+00,\n",
       "         5.13184444e+00,   2.87127202e+01,   5.12002821e+00,\n",
       "        -5.01805491e-01,   2.62059237e+01,  -2.87947578e+00,\n",
       "        -6.10605698e+00,   8.99818105e+00,   3.82478701e+01,\n",
       "         2.42266473e+01,   1.93882082e+01,   2.49926984e+01,\n",
       "         7.35026552e-01,  -2.60377395e+00,   2.93736449e+00,\n",
       "         2.87889185e+01,   4.96625683e-01,   9.32330430e+00,\n",
       "         7.99832125e+00,   1.99797964e+01,   2.19287478e+00,\n",
       "         2.75352847e+00,   1.30916777e+01,   2.37929213e+01,\n",
       "         2.10344581e+01,  -4.90547283e-01,   6.75362837e+00,\n",
       "         6.18271098e+01,   1.27218458e+01,   7.68933723e+00,\n",
       "         3.51677493e+01,   3.31667197e+01,   2.44728391e+01,\n",
       "         2.08309652e+01,   4.06009209e+01,   2.27793830e+01,\n",
       "         1.94356593e+01,   5.04263527e+00,   3.46508998e+00,\n",
       "         1.64593885e+01,  -2.89465157e+00,   1.37970900e+01,\n",
       "         2.60335745e+01,   1.04613514e+01,   1.67396839e+01,\n",
       "        -2.97329669e+00,   1.49452336e+01,   1.76641421e+01,\n",
       "         2.62996252e+00,   2.61425870e+01,   1.30037838e+01,\n",
       "         1.90785852e-01,   3.72474374e+01,   2.77268511e+00,\n",
       "         6.53507082e+00,   6.69798969e+00,   6.12112406e+00,\n",
       "         1.32940041e+01,   5.31857129e+00,   5.34113407e+01,\n",
       "         1.34666657e+01,   2.72740018e+01,   9.56918133e+00,\n",
       "         1.78379221e+01,   2.24847093e+00,   4.42033355e+00,\n",
       "         1.03663001e+01,   3.14305137e+00,   1.78245618e+01,\n",
       "         6.11802369e+00,   1.27204435e+01,   1.35315939e+00,\n",
       "         1.97153383e-01,   1.54279709e+00,   2.25736909e-01,\n",
       "         6.18171927e+00,  -1.01529477e+00,   3.38550352e+00,\n",
       "         4.34501877e+01,   1.00210796e+01,   2.04170860e+01,\n",
       "         3.56796091e+00,   2.37143438e+01,   1.08064644e+01,\n",
       "         2.94088086e+01,   1.11922381e+01,   1.68493396e+01,\n",
       "         9.47327592e+00,   1.04713327e+01,   1.62971042e+01,\n",
       "        -3.19563559e+00,   1.64022374e+01,   5.49215486e+00,\n",
       "         3.16552621e+01,   4.27489541e+00,   3.08215075e+00,\n",
       "         3.30957786e+01,   9.38520305e+00,   3.55801357e+01,\n",
       "         4.24404607e+00,   6.12431810e+00,  -1.28625670e+00,\n",
       "         8.03301849e+00,   2.44600849e+01,   4.47667091e+01,\n",
       "         1.48338840e+01,   1.39919954e+01,   1.19403640e+01,\n",
       "         3.07958218e+01,   9.15887623e+00,   1.30555654e+01,\n",
       "         3.51139561e+01,   3.40775173e-01,   5.51692700e+01,\n",
       "         2.79001687e+01,   2.58656336e+01,   3.33917022e+01,\n",
       "         1.94494400e+01,   1.09842858e+00,   4.36863146e+00,\n",
       "         1.53004872e+01,   1.53323870e+01,   1.45911584e+01,\n",
       "         1.12319959e+01,   3.86469971e+01,   2.40081664e+01,\n",
       "         1.40823311e+01,  -1.98073735e+00,   3.80955130e+01,\n",
       "         4.52748939e+00,   2.23899902e+01,   2.84152874e+01,\n",
       "         1.92235732e+01,   1.54743731e+01,   2.92093335e+01,\n",
       "         1.36993504e+01,  -2.52549467e+00,   3.97488405e+01,\n",
       "         8.80100095e-01,   8.33228441e-02,   1.32489165e+01,\n",
       "         2.22655421e+00,   8.28103906e+00,  -2.28127579e+00,\n",
       "         1.65242549e+00,  -4.90614004e+00,  -5.40558651e-01,\n",
       "         9.28994632e+00,   8.39323600e+00,   5.57962967e-01,\n",
       "         3.80574185e+01,   8.28046896e+00,   4.15968839e+01,\n",
       "         4.22460004e+01,   1.03981178e+01,   1.30811193e+00,\n",
       "         1.70306101e+01,   1.94494227e+01,   2.51371333e+01,\n",
       "         6.77834824e+00,   2.84391134e-02,   2.46165713e+01,\n",
       "         3.60750779e+00,   2.62682355e+00,   1.19536071e+01,\n",
       "         1.80397280e+01,  -2.06509063e+00,   1.25744387e+01,\n",
       "         1.54252736e+01,   2.83774418e+01,   3.43341554e+00,\n",
       "         1.84514916e+01,   3.02549032e+00,   2.48539534e+01,\n",
       "         1.83269530e+01,   2.86454423e+01,  -1.40964085e+00,\n",
       "         2.03006999e+01,   7.76767716e+00,   4.49262944e+00,\n",
       "         7.82130926e+00,   2.14644454e+01,   1.79746176e+01,\n",
       "         3.02498658e+01,   2.01765152e+01,   1.60405590e+00,\n",
       "         1.31669438e+01,   1.11168947e+01,   7.36019333e+00,\n",
       "         1.58556489e+01,   4.03792416e+01,   3.65666973e+00,\n",
       "         1.20015405e+01,   3.41330172e+01,   6.07371940e+00,\n",
       "         1.26814625e+01,   2.48553127e+00,   1.41159143e+01,\n",
       "         1.86495957e+01,   1.70849208e+01,   3.79940676e+00,\n",
       "         4.25874107e+01,   2.16629297e+01,   3.17670106e+01,\n",
       "         3.95881558e+01,   1.94753721e+01,   1.67398361e+01,\n",
       "         2.00023396e+01,   1.14517663e+01,   2.40988777e+01,\n",
       "         6.10538970e+00,   2.85889402e+00,   9.12401065e+00,\n",
       "         2.18785853e+01,   4.66303344e+01,   4.41830631e+01,\n",
       "         5.22902863e+00,   5.34887727e+01,  -2.33991277e+00,\n",
       "         2.40952581e+01,   1.85887169e+01,   8.14739751e+00,\n",
       "         5.94226043e+00,   2.98241658e+01,   6.35272704e+00,\n",
       "        -1.40144172e+00,   5.35243807e+01,   3.72729988e+01,\n",
       "         2.27887733e+00,   2.97915269e+01,   5.43364111e-02,\n",
       "         4.75532104e+01,   2.91391810e+00,  -1.77669040e-01,\n",
       "         1.52978687e+01,   6.69265508e+00,   1.16293327e-01,\n",
       "         2.96198753e+01,   3.13921532e+01,   1.11572892e+01,\n",
       "         3.48259110e+01,   5.36986422e+01,  -1.09527356e+00,\n",
       "         8.66852402e+00,   3.42374725e+01,   6.96309720e-01,\n",
       "         2.38566398e+01,   7.73489288e+00,   1.18436416e+01,\n",
       "         2.37644475e+01,  -2.06060755e+00,   5.07569178e-01,\n",
       "         4.12162203e+01,   2.14578370e+01,   2.95492624e+01,\n",
       "         3.07626688e+01,   6.44398228e+01,   1.33481796e+01,\n",
       "         4.56211205e+00,   1.22305275e+01,   3.25981870e+01,\n",
       "         4.75163539e+01,   2.76564620e+01,   4.41337023e+01,\n",
       "         5.60639464e+00,   1.26865301e+01,   1.07366351e+01,\n",
       "        -3.05083657e+00,  -8.05666140e-01,   9.87167489e+00,\n",
       "         5.37604582e-01,   1.21252222e+01,   1.74618353e+01,\n",
       "         2.10950199e+00,   5.18702850e+00,   9.72374286e+00,\n",
       "         1.99514251e+01,   3.09963595e+01,   2.94044838e+01,\n",
       "         2.44359223e+00,   4.96188960e+01,   2.52913959e+01,\n",
       "         4.90177335e+00,   4.65792386e+01,   4.86812519e+01,\n",
       "         2.03360945e+01,   2.55660285e+01,   3.04051740e+01,\n",
       "         3.05190726e+01,   1.97589157e+01,  -4.24070591e+00,\n",
       "         1.47707585e+01,   2.33127201e+00,   2.02876615e+01,\n",
       "         1.25313543e+01,   2.63249999e+01,   1.86709567e+00,\n",
       "         5.26162924e+00,   3.17982140e+01,   9.12401598e+00,\n",
       "         7.27119806e+00,   1.85313559e+01,   4.49248186e+01,\n",
       "         4.83512448e+01,   2.64206868e+01,   8.17988197e+00,\n",
       "         1.32971205e+01,   3.09397363e+00,  -3.70796375e+00,\n",
       "         1.34979759e+01,   3.01161597e-01,   1.41286409e+01,\n",
       "         2.70814116e+00,   2.65363644e+01,   2.85458447e+01,\n",
       "         1.57029440e+01,   2.57538166e+00,   2.81380325e+01,\n",
       "         4.16156173e+01,  -1.18038898e+00,   4.43973560e+01,\n",
       "         2.12589821e+01,   9.68102447e+00,   2.42957570e+00,\n",
       "         3.17252313e+01,   1.68653953e+01,   9.00028177e+00,\n",
       "         1.41806862e+01,  -2.32869968e-01,   6.12517384e+00,\n",
       "         2.16208869e+01,   5.45941749e+00,  -1.41876199e+00,\n",
       "         3.04818089e+01,  -5.45795549e+00,   2.22098038e+00,\n",
       "         1.58191885e+01,  -1.38707379e+00,   6.47985744e+00,\n",
       "         3.27074599e+01,  -1.47489207e-01,   1.69565573e+01,\n",
       "         8.11436221e+00,   7.44975841e+00,   5.53878052e+00,\n",
       "         4.41109739e+01,   1.90645323e+01,   3.43479360e+01,\n",
       "         4.54453607e+01,   2.69255685e+01,   1.81881210e+01,\n",
       "         1.19017706e+01,   8.55170817e+00,   4.02480285e+01,\n",
       "         2.93072136e+00,   1.29352946e+01,  -4.17020340e+00,\n",
       "         3.77529049e+01,   4.18880389e+01,   2.57211473e+00,\n",
       "         1.00427084e+01,   3.09911706e+01,   1.69403238e+01,\n",
       "        -3.97688578e-01,   8.55442268e+00,   2.73859486e+01,\n",
       "         2.89298394e+01,   1.84845885e+01,   3.22838459e+01,\n",
       "         3.43104362e+00,   1.66906825e+01,  -4.62294764e+00,\n",
       "        -1.30312032e+00,   9.87056629e-01,   1.95159776e+01,\n",
       "         6.44348535e+00,   8.62114572e+00,   2.04326960e+01,\n",
       "         5.08590977e+01,   1.30609188e+01,   1.25433014e+01,\n",
       "         1.41133549e+01,  -2.44601313e-01,   4.26351727e+01,\n",
       "         5.65807141e+01,  -1.59672902e+00,   1.69696647e+01,\n",
       "         5.12789269e+01,   4.53598864e+01,  -4.01612187e+00,\n",
       "         7.23909449e+00,   2.81205829e+01,   6.60374218e+00,\n",
       "         3.51102999e-01,   2.63941765e+00,   1.26315681e+01,\n",
       "        -1.73377276e+00,   2.17717348e+01,   2.46766839e+01,\n",
       "        -2.26933983e+00,   9.73393813e+00,   3.40161799e+01,\n",
       "        -5.78073271e+00,   2.34371169e+01,   2.69547006e+01,\n",
       "         1.41768123e+01,   2.58040336e+01,  -5.14227763e+00,\n",
       "         7.23219749e+00,   3.25564231e+01,   1.32952910e+01,\n",
       "         1.14871703e+01,   3.50174157e+01,   1.79025291e+01,\n",
       "        -3.06111110e-01,   1.04032676e+01,   9.58211908e+00,\n",
       "         9.89820455e+00,  -1.52158787e+00,   3.52480759e+00,\n",
       "         3.77263314e+01,   2.05721945e+01,   2.76116936e+01,\n",
       "         1.26773716e+01,   9.10281897e+00,   4.09486190e+00,\n",
       "         2.42638829e+01,   1.37339926e+01,   2.99841135e+00,\n",
       "         1.50112180e+01,   3.31731123e+01,   1.03753983e+01,\n",
       "         7.86823654e+00,   3.68244050e+01,   1.51215323e+01,\n",
       "         2.34458335e+01,   2.40291820e+01,  -4.78951160e+00,\n",
       "         5.40673422e+01,   2.63427677e+01,   1.16781858e+01,\n",
       "         7.89543298e+00,  -4.55798483e+00,  -4.75182748e-01,\n",
       "         2.01720389e+01,   1.69953476e+01,   2.10577639e+01,\n",
       "        -7.21196883e-01,   7.79743216e+00,   7.21431171e+00,\n",
       "        -1.06156836e+00,   3.08931825e+01,   8.78554761e+00,\n",
       "         3.72246145e+01,   9.26746375e+00,   5.66799947e+01,\n",
       "         2.72318353e+01,   2.47059170e+01,   2.33771350e+01,\n",
       "         6.38367072e-01,   3.67430881e+00,   8.56950584e+00,\n",
       "         1.21755743e+01,  -3.68491731e-01,   1.14930983e+01,\n",
       "         1.37714042e+01,   1.64225323e+01,   5.02334386e+01,\n",
       "        -2.81081028e+00,   1.83863914e+01,   1.67860718e+01,\n",
       "         2.51734267e+01,   2.18078456e+01,  -5.96580487e+00,\n",
       "         3.73004985e+01,   2.28696098e+01,   2.78618599e+00,\n",
       "         1.32386240e+01,   2.09534841e+01,   7.41586192e+00,\n",
       "        -4.24796470e-01,   4.31429111e+00,   2.65411460e+01,\n",
       "         2.65731804e+01,   9.60596100e-01,   4.26395955e+00,\n",
       "         2.79794864e+01,  -1.54699275e+00,   9.19804151e+00,\n",
       "         2.29733812e+00,   4.24572452e+01,   4.88202397e+00,\n",
       "         1.30393088e+01,   2.21158731e+01,   1.39005605e+01,\n",
       "         1.94370913e+01,   7.97233325e+00,   1.74597599e+01,\n",
       "         4.39730222e+01,   2.40761735e+01,   1.32807970e+01,\n",
       "         8.85190598e+00,   2.03295655e+01,   4.27343892e+00,\n",
       "         9.37527394e+00,   3.07776554e+01,   6.50096371e+00,\n",
       "         3.03368974e+01,   1.94294858e+01,   1.84229572e+01,\n",
       "         2.77250708e+01,   2.53239508e-01,   2.81978536e+00,\n",
       "         1.22173261e+01,   9.11827641e+00,   2.05591141e+01,\n",
       "         3.44627143e+01,  -5.59912653e+00,   6.00882798e+00,\n",
       "         2.51630121e+01,   4.23013958e+01,   5.16039508e+00,\n",
       "        -2.46109158e+00,   1.52518340e+01,   3.90740481e+01,\n",
       "         1.41244838e+01,   2.36459124e+01,   1.48674962e+01,\n",
       "         1.42353899e+01,  -1.33775090e+00,   2.15777153e+01,\n",
       "         2.02627985e+01,  -2.95340343e+00,  -3.73138014e+00,\n",
       "         3.76501671e+00,   1.73922319e+01,   1.81400831e+01,\n",
       "         8.98324680e+00,   6.88429404e+01,   6.96983364e+00,\n",
       "        -1.27300298e+00,   8.23658935e-01,  -4.70966207e+00,\n",
       "        -1.17362922e-01,   1.18544823e+01,   1.62154970e+01,\n",
       "        -2.44582723e+00,   3.34708759e+01,   1.79707176e+01,\n",
       "         9.74523935e+00,   5.48978035e+01,   3.02106470e+01,\n",
       "         5.26172849e+00,   4.44295938e+01,   2.29582158e+01,\n",
       "         1.90031821e+01,   1.04032174e+01,  -1.62505380e+00,\n",
       "         1.77987824e+01,   9.53759480e+00,   2.87857017e+01,\n",
       "         1.53902798e+01,  -4.71019241e+00,   2.58193776e+00,\n",
       "         2.13412141e+01,   5.06335943e+01,   8.91625113e+00,\n",
       "        -1.15292272e-01,   2.38897685e+01,  -1.78746399e+00,\n",
       "         4.27577381e+00,   1.28082596e+01,   1.95317926e+01,\n",
       "         2.91021394e+01,   2.42135037e+01,   4.35413275e+01,\n",
       "         6.92420633e+00,   3.15947077e+01,   4.29510999e+00,\n",
       "         7.30412665e+00,   3.07366807e+01,   2.62419179e+01,\n",
       "         9.13265654e-01,   1.69338835e+01,   6.59822047e+00,\n",
       "         1.72253218e+01,   8.22171210e+00,   2.89089822e+01,\n",
       "        -2.46204747e+00,   1.15901834e+01,  -3.55653868e+00,\n",
       "         2.62443100e+01,   2.13663870e+01,  -3.50450648e+00,\n",
       "         2.12379632e+01,   4.32485238e+01,   4.53753476e+01,\n",
       "         6.56792923e+00,   1.94888931e+01,  -1.42636389e+00,\n",
       "         2.34456544e+01,   9.42449324e+00,   2.23195616e+01,\n",
       "         4.70638151e+00,   2.14703968e+01,   2.91057815e+01,\n",
       "         3.02060264e+01,   4.39980107e+01,   3.07977305e+00,\n",
       "         2.70497659e+01,   1.88356541e+01,   2.26810398e+01,\n",
       "         3.76108285e+01,   4.08585236e+00,   1.08764397e+01,\n",
       "         5.18300793e-02,   1.67405578e+01,   1.41351359e+01,\n",
       "         1.95543777e+01,   8.86275553e+00,   1.93918522e+01,\n",
       "        -3.33432342e+00,   1.72781556e+01,  -4.61432179e+00,\n",
       "         8.41306788e+00,   1.71213912e+01,   3.49074958e+01,\n",
       "         2.76608667e+01,   2.40320060e+01,   1.07698381e-01,\n",
       "         8.88498743e+00,  -5.77158919e+00,  -3.31228274e+00,\n",
       "        -3.67966375e+00,   3.84388154e+01,   3.44025963e+01,\n",
       "         9.39906987e+00,   1.20376896e+00,   2.29715638e+01,\n",
       "         3.12180805e+01,   1.45027988e+01,   2.48357623e+01,\n",
       "         6.93115408e+00,   2.00982815e+01,  -4.44000649e+00,\n",
       "         1.42243127e+01,   1.16288371e+01,   5.22691425e+00,\n",
       "        -5.80527164e+00,   1.85666646e+01,   3.31501170e+01,\n",
       "         7.76198170e+00,   9.33420457e+00,   3.03865798e+01,\n",
       "         3.27657439e+00,   1.61901757e+01,   2.20070174e+00,\n",
       "         3.85881906e+01,   1.01057196e+01,   8.69956306e+00,\n",
       "         1.93802094e+01,  -5.02317818e-01,   2.23535950e+01,\n",
       "         1.61285866e+01,   3.74567915e+01,   1.64409714e+01,\n",
       "         1.62132167e+01,   3.59857428e+01,   1.35268425e+01,\n",
       "         2.44475885e+00,   1.20629871e+01,   2.19667649e+01,\n",
       "         8.43681815e+00,   4.77142779e+00,   1.51358685e+01,\n",
       "         2.97508406e+01,   4.59286078e+01,   3.16767225e+00,\n",
       "         2.93936853e+01,   5.48966866e+01,  -3.04111917e+00,\n",
       "         1.41155802e+01,   1.71489056e+01,  -9.33052187e-02,\n",
       "         2.16333083e+01,   1.40543512e+01,   2.36921343e+01,\n",
       "         2.00996063e+01])"
      ]
     },
     "execution_count": 72,
     "metadata": {},
     "output_type": "execute_result"
    }
   ],
   "source": []
  },
  {
   "cell_type": "code",
   "execution_count": 73,
   "metadata": {},
   "outputs": [
    {
     "data": {
      "text/plain": [
       "[<matplotlib.lines.Line2D at 0x7fc573cc05c0>]"
      ]
     },
     "execution_count": 73,
     "metadata": {},
     "output_type": "execute_result"
    },
    {
     "data": {
      "image/png": "[encoded data removed]",
      "text/plain": [
       "<matplotlib.figure.Figure at 0x7fc571899710>"
      ]
     },
     "metadata": {},
     "output_type": "display_data"
    }
   ],
   "source": [
    "plt.plot(A,z,\"b.\")"
   ]
  },
  {
   "cell_type": "code",
   "execution_count": 74,
   "metadata": {},
   "outputs": [],
   "source": [
    "from sklearn.svm import LinearSVR"
   ]
  },
  {
   "cell_type": "code",
   "execution_count": 75,
   "metadata": {},
   "outputs": [],
   "source": [
    "svr_pipeline = Pipeline(((\"std_scal\",StandardScaler()),(\"reg\",LinearSVR(epsilon=2))))"
   ]
  },
  {
   "cell_type": "code",
   "execution_count": 83,
   "metadata": {},
   "outputs": [
    {
     "data": {
      "text/plain": [
       "Pipeline(memory=None,\n",
       "     steps=[('std_scal', StandardScaler(copy=True, with_mean=True, with_std=True)), ('reg', LinearSVR(C=1.0, dual=True, epsilon=2, fit_intercept=True,\n",
       "     intercept_scaling=1.0, loss='epsilon_insensitive', max_iter=1000,\n",
       "     random_state=None, tol=0.0001, verbose=0))])"
      ]
     },
     "execution_count": 83,
     "metadata": {},
     "output_type": "execute_result"
    }
   ],
   "source": [
    "svr_pipeline.fit(A,z)"
   ]
  },
  {
   "cell_type": "code",
   "execution_count": 84,
   "metadata": {},
   "outputs": [],
   "source": [
    "from sklearn.svm import SVR"
   ]
  },
  {
   "cell_type": "code",
   "execution_count": 85,
   "metadata": {},
   "outputs": [],
   "source": [
    "svr_pipe = Pipeline(((\"std_scaler\",StandardScaler()),(\"svr_pip\",SVR(kernel = \"poly\",degree = 2, epsilon =1.5))))"
   ]
  },
  {
   "cell_type": "code",
   "execution_count": 97,
   "metadata": {},
   "outputs": [
    {
     "data": {
      "text/plain": [
       "Pipeline(memory=None,\n",
       "     steps=[('std_scaler', StandardScaler(copy=True, with_mean=True, with_std=True)), ('svr_pip', SVR(C=1.0, cache_size=200, coef0=0.0, degree=2, epsilon=1.5, gamma='auto',\n",
       "  kernel='poly', max_iter=-1, shrinking=True, tol=0.001, verbose=False))])"
      ]
     },
     "execution_count": 97,
     "metadata": {},
     "output_type": "execute_result"
    }
   ],
   "source": [
    "from sklearn.linear_model import SGDClassifier\n",
    "svr_pipe.fit(A,z)"
   ]
  },
  {
   "cell_type": "code",
   "execution_count": 247,
   "metadata": {},
   "outputs": [],
   "source": [
    " lin_svc_clf = LinearSVC(loss = \"hinge\")\n",
    "svc_clf = SVC(kernel = \"linear\")\n",
    "sgd_clf = SGDClassifier(loss = \"hinge\",tol = 0.0001,alpha = 0.04,max_iter =1000)"
   ]
  },
  {
   "cell_type": "code",
   "execution_count": 248,
   "metadata": {},
   "outputs": [],
   "source": [
    "from sklearn.model_selection import cross_val_predict"
   ]
  },
  {
   "cell_type": "code",
   "execution_count": 259,
   "metadata": {},
   "outputs": [],
   "source": [
    "lin_svc_clf_pred = cross_val_predict(lin_svc_clf,X,y,cv=3)\n",
    "svc_clf_pred = cross_val_predict(svc_clf,X,y,cv=3)\n",
    "sgd_clf_pred = cross_val_predict(sgd_clf,X,y,cv=3)"
   ]
  },
  {
   "cell_type": "code",
   "execution_count": 260,
   "metadata": {},
   "outputs": [
    {
     "data": {
      "text/plain": [
       "array([0, 0, 0, 1, 1, 1, 0, 1, 0, 1, 0, 1, 1, 1, 0, 0, 1, 1, 0, 1, 0, 1, 0,\n",
       "       1, 1, 0, 1, 0, 0, 1, 1, 1, 1, 0, 1, 1, 1, 0, 1, 1, 1, 1, 1, 0, 0, 1,\n",
       "       0, 1, 0, 1, 0, 0, 1, 1, 1, 1, 0, 1, 0, 1, 0, 0, 0, 0, 0, 1, 1, 1, 0,\n",
       "       0, 0, 1, 0, 0, 1, 0, 1, 1, 0, 1, 0, 1, 0, 0, 1, 0, 0, 1, 0, 0, 0, 1,\n",
       "       1, 0, 0, 1, 0, 0, 0, 1])"
      ]
     },
     "execution_count": 260,
     "metadata": {},
     "output_type": "execute_result"
    }
   ],
   "source": [
    "lin_svc_clf_pred"
   ]
  },
  {
   "cell_type": "code",
   "execution_count": 261,
   "metadata": {},
   "outputs": [
    {
     "data": {
      "text/plain": [
       "array([0, 0, 0, 1, 1, 1, 0, 1, 0, 1, 0, 1, 1, 1, 0, 0, 1, 1, 0, 1, 0, 1, 0,\n",
       "       1, 1, 0, 1, 0, 0, 1, 1, 1, 1, 0, 1, 1, 1, 0, 1, 1, 1, 1, 1, 0, 0, 1,\n",
       "       0, 1, 0, 1, 0, 0, 1, 1, 1, 1, 0, 1, 0, 1, 0, 0, 0, 0, 0, 1, 1, 1, 0,\n",
       "       0, 0, 1, 0, 0, 1, 0, 1, 1, 0, 1, 0, 1, 0, 0, 1, 0, 0, 1, 0, 0, 0, 1,\n",
       "       1, 0, 0, 1, 0, 0, 0, 1])"
      ]
     },
     "execution_count": 261,
     "metadata": {},
     "output_type": "execute_result"
    }
   ],
   "source": [
    "svc_clf_pred"
   ]
  },
  {
   "cell_type": "code",
   "execution_count": 262,
   "metadata": {},
   "outputs": [
    {
     "data": {
      "text/plain": [
       "100"
      ]
     },
     "execution_count": 262,
     "metadata": {},
     "output_type": "execute_result"
    }
   ],
   "source": [
    "sum(lin_svc_clf_pred == svc_clf_pred)"
   ]
  },
  {
   "cell_type": "code",
   "execution_count": 263,
   "metadata": {},
   "outputs": [
    {
     "data": {
      "text/plain": [
       "99"
      ]
     },
     "execution_count": 263,
     "metadata": {},
     "output_type": "execute_result"
    }
   ],
   "source": [
    "sum(sgd_clf_pred==svc_clf_pred)"
   ]
  },
  {
   "cell_type": "code",
   "execution_count": 264,
   "metadata": {},
   "outputs": [
    {
     "data": {
      "text/plain": [
       "87"
      ]
     },
     "execution_count": 264,
     "metadata": {},
     "output_type": "execute_result"
    }
   ],
   "source": [
    "sum(y==svc_clf_pred)"
   ]
  },
  {
   "cell_type": "code",
   "execution_count": 271,
   "metadata": {},
   "outputs": [
    {
     "ename": "AttributeError",
     "evalue": "'SGDClassifier' object has no attribute 'coef_'",
     "output_type": "error",
     "traceback": [
      "\u001b[0;31m---------------------------------------------------------------------------\u001b[0m",
      "\u001b[0;31mAttributeError\u001b[0m                            Traceback (most recent call last)",
      "\u001b[0;32m<ipython-input-271-60a7edc8a36f>\u001b[0m in \u001b[0;36m<module>\u001b[0;34m()\u001b[0m\n\u001b[0;32m----> 1\u001b[0;31m \u001b[0msgd_clf\u001b[0m\u001b[0;34m.\u001b[0m\u001b[0mcoef_\u001b[0m\u001b[0;34m\u001b[0m\u001b[0m\n\u001b[0m",
      "\u001b[0;31mAttributeError\u001b[0m: 'SGDClassifier' object has no attribute 'coef_'"
     ]
    }
   ],
   "source": [
    "sgd_clf.coef_"
   ]
  },
  {
   "cell_type": "code",
   "execution_count": 1,
   "metadata": {},
   "outputs": [],
   "source": [
    "from sklearn.datasets import fetch_mldata"
   ]
  },
  {
   "cell_type": "code",
   "execution_count": 2,
   "metadata": {},
   "outputs": [],
   "source": [
    "mnist = fetch_mldata(\"MNIST original\")"
   ]
  },
  {
   "cell_type": "code",
   "execution_count": 22,
   "metadata": {},
   "outputs": [],
   "source": [
    "X_train , y_train,X_test,y_test =mnist[\"data\"][:60000],mnist[\"target\"][:60000],mnist[\"data\"][60000:],mnist[\"target\"][60000:]"
   ]
  },
  {
   "cell_type": "code",
   "execution_count": 23,
   "metadata": {},
   "outputs": [],
   "source": [
    "from sklearn.model_selection import GridSearchCV\n",
    "from sklearn.svm import LinearSVC\n",
    "svc_clf =LinearSVC(loss =\"hinge\")\n",
    "#param_grid = {'gamma':[1,2,3,4,5],'C':[0.01,0.1,1,10,100]}"
   ]
  },
  {
   "cell_type": "code",
   "execution_count": 10,
   "metadata": {},
   "outputs": [],
   "source": [
    "grid_search = GridSearchCV(svc_clf,param_grid,cv=3,scoring='accuracy')"
   ]
  },
  {
   "cell_type": "code",
   "execution_count": 24,
   "metadata": {},
   "outputs": [
    {
     "data": {
      "text/plain": [
       "LinearSVC(C=1.0, class_weight=None, dual=True, fit_intercept=True,\n",
       "     intercept_scaling=1, loss='hinge', max_iter=1000, multi_class='ovr',\n",
       "     penalty='l2', random_state=None, tol=0.0001, verbose=0)"
      ]
     },
     "execution_count": 24,
     "metadata": {},
     "output_type": "execute_result"
    }
   ],
   "source": [
    "svc_clf.fit(X_train,y_train)"
   ]
  },
  {
   "cell_type": "code",
   "execution_count": 26,
   "metadata": {},
   "outputs": [],
   "source": [
    "from sklearn.metrics import f1_score"
   ]
  },
  {
   "cell_type": "code",
   "execution_count": 28,
   "metadata": {},
   "outputs": [
    {
     "ename": "ValueError",
     "evalue": "Target is multiclass but average='binary'. Please choose another average setting.",
     "output_type": "error",
     "traceback": [
      "\u001b[0;31m---------------------------------------------------------------------------\u001b[0m",
      "\u001b[0;31mValueError\u001b[0m                                Traceback (most recent call last)",
      "\u001b[0;32m<ipython-input-28-3271c05ef441>\u001b[0m in \u001b[0;36m<module>\u001b[0;34m()\u001b[0m\n\u001b[1;32m      1\u001b[0m \u001b[0my_pred\u001b[0m \u001b[0;34m=\u001b[0m \u001b[0msvc_clf\u001b[0m\u001b[0;34m.\u001b[0m\u001b[0mpredict\u001b[0m\u001b[0;34m(\u001b[0m\u001b[0mX_test\u001b[0m\u001b[0;34m)\u001b[0m\u001b[0;34m\u001b[0m\u001b[0m\n\u001b[0;32m----> 2\u001b[0;31m \u001b[0mf1_score\u001b[0m\u001b[0;34m(\u001b[0m\u001b[0my_test\u001b[0m\u001b[0;34m,\u001b[0m\u001b[0my_pred\u001b[0m\u001b[0;34m)\u001b[0m\u001b[0;34m\u001b[0m\u001b[0m\n\u001b[0m",
      "\u001b[0;32m~/ml/env/lib/python3.5/site-packages/sklearn/metrics/classification.py\u001b[0m in \u001b[0;36mf1_score\u001b[0;34m(y_true, y_pred, labels, pos_label, average, sample_weight)\u001b[0m\n\u001b[1;32m    712\u001b[0m     return fbeta_score(y_true, y_pred, 1, labels=labels,\n\u001b[1;32m    713\u001b[0m                        \u001b[0mpos_label\u001b[0m\u001b[0;34m=\u001b[0m\u001b[0mpos_label\u001b[0m\u001b[0;34m,\u001b[0m \u001b[0maverage\u001b[0m\u001b[0;34m=\u001b[0m\u001b[0maverage\u001b[0m\u001b[0;34m,\u001b[0m\u001b[0;34m\u001b[0m\u001b[0m\n\u001b[0;32m--> 714\u001b[0;31m                        sample_weight=sample_weight)\n\u001b[0m\u001b[1;32m    715\u001b[0m \u001b[0;34m\u001b[0m\u001b[0m\n\u001b[1;32m    716\u001b[0m \u001b[0;34m\u001b[0m\u001b[0m\n",
      "\u001b[0;32m~/ml/env/lib/python3.5/site-packages/sklearn/metrics/classification.py\u001b[0m in \u001b[0;36mfbeta_score\u001b[0;34m(y_true, y_pred, beta, labels, pos_label, average, sample_weight)\u001b[0m\n\u001b[1;32m    826\u001b[0m                                                  \u001b[0maverage\u001b[0m\u001b[0;34m=\u001b[0m\u001b[0maverage\u001b[0m\u001b[0;34m,\u001b[0m\u001b[0;34m\u001b[0m\u001b[0m\n\u001b[1;32m    827\u001b[0m                                                  \u001b[0mwarn_for\u001b[0m\u001b[0;34m=\u001b[0m\u001b[0;34m(\u001b[0m\u001b[0;34m'f-score'\u001b[0m\u001b[0;34m,\u001b[0m\u001b[0;34m)\u001b[0m\u001b[0;34m,\u001b[0m\u001b[0;34m\u001b[0m\u001b[0m\n\u001b[0;32m--> 828\u001b[0;31m                                                  sample_weight=sample_weight)\n\u001b[0m\u001b[1;32m    829\u001b[0m     \u001b[0;32mreturn\u001b[0m \u001b[0mf\u001b[0m\u001b[0;34m\u001b[0m\u001b[0m\n\u001b[1;32m    830\u001b[0m \u001b[0;34m\u001b[0m\u001b[0m\n",
      "\u001b[0;32m~/ml/env/lib/python3.5/site-packages/sklearn/metrics/classification.py\u001b[0m in \u001b[0;36mprecision_recall_fscore_support\u001b[0;34m(y_true, y_pred, beta, labels, pos_label, average, warn_for, sample_weight)\u001b[0m\n\u001b[1;32m   1038\u001b[0m         \u001b[0;32melse\u001b[0m\u001b[0;34m:\u001b[0m\u001b[0;34m\u001b[0m\u001b[0m\n\u001b[1;32m   1039\u001b[0m             raise ValueError(\"Target is %s but average='binary'. Please \"\n\u001b[0;32m-> 1040\u001b[0;31m                              \"choose another average setting.\" % y_type)\n\u001b[0m\u001b[1;32m   1041\u001b[0m     \u001b[0;32melif\u001b[0m \u001b[0mpos_label\u001b[0m \u001b[0;32mnot\u001b[0m \u001b[0;32min\u001b[0m \u001b[0;34m(\u001b[0m\u001b[0;32mNone\u001b[0m\u001b[0;34m,\u001b[0m \u001b[0;36m1\u001b[0m\u001b[0;34m)\u001b[0m\u001b[0;34m:\u001b[0m\u001b[0;34m\u001b[0m\u001b[0m\n\u001b[1;32m   1042\u001b[0m         warnings.warn(\"Note that pos_label (set to %r) is ignored when \"\n",
      "\u001b[0;31mValueError\u001b[0m: Target is multiclass but average='binary'. Please choose another average setting."
     ]
    }
   ],
   "source": [
    "y_pred = svc_clf.predict(X_test)\n",
    "f1_score(y_test,y_pred)"
   ]
  },
  {
   "cell_type": "code",
   "execution_count": 4,
   "metadata": {},
   "outputs": [],
   "source": [
    "from sklearn import datasets\n",
    "import numpy as np"
   ]
  },
  {
   "cell_type": "code",
   "execution_count": 5,
   "metadata": {},
   "outputs": [],
   "source": [
    "iris = datasets.load_iris()"
   ]
  },
  {
   "cell_type": "code",
   "execution_count": 6,
   "metadata": {},
   "outputs": [],
   "source": [
    "X, y = iris[\"data\"][:,(2,3)], (iris[\"target\"]==2).astype(np.float64)"
   ]
  },
  {
   "cell_type": "code",
   "execution_count": 7,
   "metadata": {},
   "outputs": [],
   "source": [
    "from sklearn.svm import LinearSVC , SVC"
   ]
  },
  {
   "cell_type": "code",
   "execution_count": 8,
   "metadata": {},
   "outputs": [],
   "source": [
    "from sklearn.linear_model import SGDClassifier"
   ]
  },
  {
   "cell_type": "code",
   "execution_count": 25,
   "metadata": {},
   "outputs": [],
   "source": [
    "from sklearn.preprocessing import StandardScaler\n",
    "lin_svc_clf = LinearSVC(loss =\"hinge\")\n",
    "svc_clf = SVC(kernel = \"linear\")\n",
    "sgd_clf = SGDClassifier(alpha = 1/y.shape[0],loss = \"hinge\")\n",
    "scaler = StandardScaler()\n",
    "X = scaler.fit_transform(X)"
   ]
  },
  {
   "cell_type": "code",
   "execution_count": 26,
   "metadata": {},
   "outputs": [
    {
     "data": {
      "text/plain": [
       "LinearSVC(C=1.0, class_weight=None, dual=True, fit_intercept=True,\n",
       "     intercept_scaling=1, loss='hinge', max_iter=1000, multi_class='ovr',\n",
       "     penalty='l2', random_state=None, tol=0.0001, verbose=0)"
      ]
     },
     "execution_count": 26,
     "metadata": {},
     "output_type": "execute_result"
    }
   ],
   "source": [
    "lin_svc_clf.fit(X,y)"
   ]
  },
  {
   "cell_type": "code",
   "execution_count": 27,
   "metadata": {},
   "outputs": [
    {
     "data": {
      "text/plain": [
       "SVC(C=1.0, cache_size=200, class_weight=None, coef0=0.0,\n",
       "  decision_function_shape='ovr', degree=3, gamma='auto', kernel='linear',\n",
       "  max_iter=-1, probability=False, random_state=None, shrinking=True,\n",
       "  tol=0.001, verbose=False)"
      ]
     },
     "execution_count": 27,
     "metadata": {},
     "output_type": "execute_result"
    }
   ],
   "source": [
    "svc_clf.fit(X,y)"
   ]
  },
  {
   "cell_type": "code",
   "execution_count": 28,
   "metadata": {},
   "outputs": [
    {
     "data": {
      "text/plain": [
       "array([[  1.00000000e+00,  -1.34127240e+00,  -1.31297673e+00],\n",
       "       [  1.00000000e+00,  -1.34127240e+00,  -1.31297673e+00],\n",
       "       [  1.00000000e+00,  -1.39813811e+00,  -1.31297673e+00],\n",
       "       [  1.00000000e+00,  -1.28440670e+00,  -1.31297673e+00],\n",
       "       [  1.00000000e+00,  -1.34127240e+00,  -1.31297673e+00],\n",
       "       [  1.00000000e+00,  -1.17067529e+00,  -1.05003079e+00],\n",
       "       [  1.00000000e+00,  -1.34127240e+00,  -1.18150376e+00],\n",
       "       [  1.00000000e+00,  -1.28440670e+00,  -1.31297673e+00],\n",
       "       [  1.00000000e+00,  -1.34127240e+00,  -1.31297673e+00],\n",
       "       [  1.00000000e+00,  -1.28440670e+00,  -1.44444970e+00],\n",
       "       [  1.00000000e+00,  -1.28440670e+00,  -1.31297673e+00],\n",
       "       [  1.00000000e+00,  -1.22754100e+00,  -1.31297673e+00],\n",
       "       [  1.00000000e+00,  -1.34127240e+00,  -1.44444970e+00],\n",
       "       [  1.00000000e+00,  -1.51186952e+00,  -1.44444970e+00],\n",
       "       [  1.00000000e+00,  -1.45500381e+00,  -1.31297673e+00],\n",
       "       [  1.00000000e+00,  -1.28440670e+00,  -1.05003079e+00],\n",
       "       [  1.00000000e+00,  -1.39813811e+00,  -1.05003079e+00],\n",
       "       [  1.00000000e+00,  -1.34127240e+00,  -1.18150376e+00],\n",
       "       [  1.00000000e+00,  -1.17067529e+00,  -1.18150376e+00],\n",
       "       [  1.00000000e+00,  -1.28440670e+00,  -1.18150376e+00],\n",
       "       [  1.00000000e+00,  -1.17067529e+00,  -1.31297673e+00],\n",
       "       [  1.00000000e+00,  -1.28440670e+00,  -1.05003079e+00],\n",
       "       [  1.00000000e+00,  -1.56873522e+00,  -1.31297673e+00],\n",
       "       [  1.00000000e+00,  -1.17067529e+00,  -9.18557817e-01],\n",
       "       [  1.00000000e+00,  -1.05694388e+00,  -1.31297673e+00],\n",
       "       [  1.00000000e+00,  -1.22754100e+00,  -1.31297673e+00],\n",
       "       [  1.00000000e+00,  -1.22754100e+00,  -1.05003079e+00],\n",
       "       [  1.00000000e+00,  -1.28440670e+00,  -1.31297673e+00],\n",
       "       [  1.00000000e+00,  -1.34127240e+00,  -1.31297673e+00],\n",
       "       [  1.00000000e+00,  -1.22754100e+00,  -1.31297673e+00],\n",
       "       [  1.00000000e+00,  -1.22754100e+00,  -1.31297673e+00],\n",
       "       [  1.00000000e+00,  -1.28440670e+00,  -1.05003079e+00],\n",
       "       [  1.00000000e+00,  -1.28440670e+00,  -1.44444970e+00],\n",
       "       [  1.00000000e+00,  -1.34127240e+00,  -1.31297673e+00],\n",
       "       [  1.00000000e+00,  -1.28440670e+00,  -1.44444970e+00],\n",
       "       [  1.00000000e+00,  -1.45500381e+00,  -1.31297673e+00],\n",
       "       [  1.00000000e+00,  -1.39813811e+00,  -1.31297673e+00],\n",
       "       [  1.00000000e+00,  -1.28440670e+00,  -1.44444970e+00],\n",
       "       [  1.00000000e+00,  -1.39813811e+00,  -1.31297673e+00],\n",
       "       [  1.00000000e+00,  -1.28440670e+00,  -1.31297673e+00],\n",
       "       [  1.00000000e+00,  -1.39813811e+00,  -1.18150376e+00],\n",
       "       [  1.00000000e+00,  -1.39813811e+00,  -1.18150376e+00],\n",
       "       [  1.00000000e+00,  -1.39813811e+00,  -1.31297673e+00],\n",
       "       [  1.00000000e+00,  -1.22754100e+00,  -7.87084847e-01],\n",
       "       [  1.00000000e+00,  -1.05694388e+00,  -1.05003079e+00],\n",
       "       [  1.00000000e+00,  -1.34127240e+00,  -1.18150376e+00],\n",
       "       [  1.00000000e+00,  -1.22754100e+00,  -1.31297673e+00],\n",
       "       [  1.00000000e+00,  -1.34127240e+00,  -1.31297673e+00],\n",
       "       [  1.00000000e+00,  -1.28440670e+00,  -1.31297673e+00],\n",
       "       [  1.00000000e+00,  -1.34127240e+00,  -1.31297673e+00],\n",
       "       [  1.00000000e+00,   5.35295827e-01,   2.64698913e-01],\n",
       "       [  1.00000000e+00,   4.21564419e-01,   3.96171883e-01],\n",
       "       [  1.00000000e+00,   6.49027235e-01,   3.96171883e-01],\n",
       "       [  1.00000000e+00,   1.37235899e-01,   1.33225943e-01],\n",
       "       [  1.00000000e+00,   4.78430123e-01,   3.96171883e-01],\n",
       "       [  1.00000000e+00,   4.21564419e-01,   1.33225943e-01],\n",
       "       [  1.00000000e+00,   5.35295827e-01,   5.27644853e-01],\n",
       "       [  1.00000000e+00,  -2.60824029e-01,  -2.61192967e-01],\n",
       "       [  1.00000000e+00,   4.78430123e-01,   1.33225943e-01],\n",
       "       [  1.00000000e+00,   8.03701950e-02,   2.64698913e-01],\n",
       "       [  1.00000000e+00,  -1.47092621e-01,  -2.61192967e-01],\n",
       "       [  1.00000000e+00,   2.50967307e-01,   3.96171883e-01],\n",
       "       [  1.00000000e+00,   1.37235899e-01,  -2.61192967e-01],\n",
       "       [  1.00000000e+00,   5.35295827e-01,   2.64698913e-01],\n",
       "       [  1.00000000e+00,  -9.02269170e-02,   1.33225943e-01],\n",
       "       [  1.00000000e+00,   3.64698715e-01,   2.64698913e-01],\n",
       "       [  1.00000000e+00,   4.21564419e-01,   3.96171883e-01],\n",
       "       [  1.00000000e+00,   1.94101603e-01,  -2.61192967e-01],\n",
       "       [  1.00000000e+00,   4.21564419e-01,   3.96171883e-01],\n",
       "       [  1.00000000e+00,   8.03701950e-02,  -1.29719997e-01],\n",
       "       [  1.00000000e+00,   5.92161531e-01,   7.90590793e-01],\n",
       "       [  1.00000000e+00,   1.37235899e-01,   1.33225943e-01],\n",
       "       [  1.00000000e+00,   6.49027235e-01,   3.96171883e-01],\n",
       "       [  1.00000000e+00,   5.35295827e-01,   1.75297293e-03],\n",
       "       [  1.00000000e+00,   3.07833011e-01,   1.33225943e-01],\n",
       "       [  1.00000000e+00,   3.64698715e-01,   2.64698913e-01],\n",
       "       [  1.00000000e+00,   5.92161531e-01,   2.64698913e-01],\n",
       "       [  1.00000000e+00,   7.05892939e-01,   6.59117823e-01],\n",
       "       [  1.00000000e+00,   4.21564419e-01,   3.96171883e-01],\n",
       "       [  1.00000000e+00,  -1.47092621e-01,  -2.61192967e-01],\n",
       "       [  1.00000000e+00,   2.35044910e-02,  -1.29719997e-01],\n",
       "       [  1.00000000e+00,  -3.33612130e-02,  -2.61192967e-01],\n",
       "       [  1.00000000e+00,   8.03701950e-02,   1.75297293e-03],\n",
       "       [  1.00000000e+00,   7.62758643e-01,   5.27644853e-01],\n",
       "       [  1.00000000e+00,   4.21564419e-01,   3.96171883e-01],\n",
       "       [  1.00000000e+00,   4.21564419e-01,   5.27644853e-01],\n",
       "       [  1.00000000e+00,   5.35295827e-01,   3.96171883e-01],\n",
       "       [  1.00000000e+00,   3.64698715e-01,   1.33225943e-01],\n",
       "       [  1.00000000e+00,   1.94101603e-01,   1.33225943e-01],\n",
       "       [  1.00000000e+00,   1.37235899e-01,   1.33225943e-01],\n",
       "       [  1.00000000e+00,   3.64698715e-01,   1.75297293e-03],\n",
       "       [  1.00000000e+00,   4.78430123e-01,   2.64698913e-01],\n",
       "       [  1.00000000e+00,   1.37235899e-01,   1.75297293e-03],\n",
       "       [  1.00000000e+00,  -2.60824029e-01,  -2.61192967e-01],\n",
       "       [  1.00000000e+00,   2.50967307e-01,   1.33225943e-01],\n",
       "       [  1.00000000e+00,   2.50967307e-01,   1.75297293e-03],\n",
       "       [  1.00000000e+00,   2.50967307e-01,   1.33225943e-01],\n",
       "       [  1.00000000e+00,   3.07833011e-01,   1.33225943e-01],\n",
       "       [  1.00000000e+00,  -4.31421141e-01,  -1.29719997e-01],\n",
       "       [  1.00000000e+00,   1.94101603e-01,   1.33225943e-01],\n",
       "       [  1.00000000e+00,   1.27454998e+00,   1.71090158e+00],\n",
       "       [  1.00000000e+00,   7.62758643e-01,   9.22063763e-01],\n",
       "       [  1.00000000e+00,   1.21768427e+00,   1.18500970e+00],\n",
       "       [  1.00000000e+00,   1.04708716e+00,   7.90590793e-01],\n",
       "       [  1.00000000e+00,   1.16081857e+00,   1.31648267e+00],\n",
       "       [  1.00000000e+00,   1.61574420e+00,   1.18500970e+00],\n",
       "       [  1.00000000e+00,   4.21564419e-01,   6.59117823e-01],\n",
       "       [  1.00000000e+00,   1.44514709e+00,   7.90590793e-01],\n",
       "       [  1.00000000e+00,   1.16081857e+00,   7.90590793e-01],\n",
       "       [  1.00000000e+00,   1.33141568e+00,   1.71090158e+00],\n",
       "       [  1.00000000e+00,   7.62758643e-01,   1.05353673e+00],\n",
       "       [  1.00000000e+00,   8.76490051e-01,   9.22063763e-01],\n",
       "       [  1.00000000e+00,   9.90221459e-01,   1.18500970e+00],\n",
       "       [  1.00000000e+00,   7.05892939e-01,   1.05353673e+00],\n",
       "       [  1.00000000e+00,   7.62758643e-01,   1.57942861e+00],\n",
       "       [  1.00000000e+00,   8.76490051e-01,   1.44795564e+00],\n",
       "       [  1.00000000e+00,   9.90221459e-01,   7.90590793e-01],\n",
       "       [  1.00000000e+00,   1.67260991e+00,   1.31648267e+00],\n",
       "       [  1.00000000e+00,   1.78634131e+00,   1.44795564e+00],\n",
       "       [  1.00000000e+00,   7.05892939e-01,   3.96171883e-01],\n",
       "       [  1.00000000e+00,   1.10395287e+00,   1.44795564e+00],\n",
       "       [  1.00000000e+00,   6.49027235e-01,   1.05353673e+00],\n",
       "       [  1.00000000e+00,   1.67260991e+00,   1.05353673e+00],\n",
       "       [  1.00000000e+00,   6.49027235e-01,   7.90590793e-01],\n",
       "       [  1.00000000e+00,   1.10395287e+00,   1.18500970e+00],\n",
       "       [  1.00000000e+00,   1.27454998e+00,   7.90590793e-01],\n",
       "       [  1.00000000e+00,   5.92161531e-01,   7.90590793e-01],\n",
       "       [  1.00000000e+00,   6.49027235e-01,   7.90590793e-01],\n",
       "       [  1.00000000e+00,   1.04708716e+00,   1.18500970e+00],\n",
       "       [  1.00000000e+00,   1.16081857e+00,   5.27644853e-01],\n",
       "       [  1.00000000e+00,   1.33141568e+00,   9.22063763e-01],\n",
       "       [  1.00000000e+00,   1.50201279e+00,   1.05353673e+00],\n",
       "       [  1.00000000e+00,   1.04708716e+00,   1.31648267e+00],\n",
       "       [  1.00000000e+00,   7.62758643e-01,   3.96171883e-01],\n",
       "       [  1.00000000e+00,   1.04708716e+00,   2.64698913e-01],\n",
       "       [  1.00000000e+00,   1.33141568e+00,   1.44795564e+00],\n",
       "       [  1.00000000e+00,   1.04708716e+00,   1.57942861e+00],\n",
       "       [  1.00000000e+00,   9.90221459e-01,   7.90590793e-01],\n",
       "       [  1.00000000e+00,   5.92161531e-01,   7.90590793e-01],\n",
       "       [  1.00000000e+00,   9.33355755e-01,   1.18500970e+00],\n",
       "       [  1.00000000e+00,   1.04708716e+00,   1.57942861e+00],\n",
       "       [  1.00000000e+00,   7.62758643e-01,   1.44795564e+00],\n",
       "       [  1.00000000e+00,   7.62758643e-01,   9.22063763e-01],\n",
       "       [  1.00000000e+00,   1.21768427e+00,   1.44795564e+00],\n",
       "       [  1.00000000e+00,   1.10395287e+00,   1.71090158e+00],\n",
       "       [  1.00000000e+00,   8.19624347e-01,   1.44795564e+00],\n",
       "       [  1.00000000e+00,   7.05892939e-01,   9.22063763e-01],\n",
       "       [  1.00000000e+00,   8.19624347e-01,   1.05353673e+00],\n",
       "       [  1.00000000e+00,   9.33355755e-01,   1.44795564e+00],\n",
       "       [  1.00000000e+00,   7.62758643e-01,   7.90590793e-01]])"
      ]
     },
     "execution_count": 28,
     "metadata": {},
     "output_type": "execute_result"
    }
   ],
   "source": [
    "#np.hstack((np.ones((y.shape[0],1)), X))"
   ]
  },
  {
   "cell_type": "code",
   "execution_count": 57,
   "metadata": {},
   "outputs": [
    {
     "name": "stderr",
     "output_type": "stream",
     "text": [
      "/home/shruti/ml/env/lib/python3.5/site-packages/sklearn/linear_model/stochastic_gradient.py:128: FutureWarning: max_iter and tol parameters have been added in <class 'sklearn.linear_model.stochastic_gradient.SGDClassifier'> in 0.19. If both are left unset, they default to max_iter=5 and tol=None. If tol is not None, max_iter defaults to max_iter=1000. From 0.21, default max_iter will be 1000, and default tol will be 1e-3.\n",
      "  \"and default tol will be 1e-3.\" % type(self), FutureWarning)\n"
     ]
    },
    {
     "data": {
      "text/plain": [
       "SGDClassifier(alpha=0.006666666666666667, average=False, class_weight=None,\n",
       "       epsilon=0.1, eta0=0.0, fit_intercept=True, l1_ratio=0.15,\n",
       "       learning_rate='optimal', loss='hinge', max_iter=None, n_iter=None,\n",
       "       n_jobs=1, penalty='l2', power_t=0.5, random_state=None,\n",
       "       shuffle=True, tol=None, verbose=0, warm_start=False)"
      ]
     },
     "execution_count": 57,
     "metadata": {},
     "output_type": "execute_result"
    }
   ],
   "source": [
    "sgd_clf.fit(X,y)"
   ]
  },
  {
   "cell_type": "code",
   "execution_count": 58,
   "metadata": {},
   "outputs": [
    {
     "data": {
      "text/plain": [
       "array([ 2.23423609,  2.88925818])"
      ]
     },
     "execution_count": 58,
     "metadata": {},
     "output_type": "execute_result"
    }
   ],
   "source": [
    "import matplotlib\n",
    "import matplotlib.pyplot as plt\n",
    "y.shape\n",
    "sgd_clf.coef_[0]"
   ]
  },
  {
   "cell_type": "code",
   "execution_count": 63,
   "metadata": {},
   "outputs": [],
   "source": [
    "b = lin_svc_clf.intercept_\n",
    "w = lin_svc_clf.coef_[0]\n",
    "b1 = svc_clf.intercept_\n",
    "w1 = svc_clf.coef_[0]\n",
    "b2 = sgd_clf.intercept_\n",
    "w2 = sgd_clf.coef_[0]"
   ]
  },
  {
   "cell_type": "code",
   "execution_count": 60,
   "metadata": {},
   "outputs": [],
   "source": [
    "x0 = np.linspace(-1.5,4,200)"
   ]
  },
  {
   "cell_type": "code",
   "execution_count": 64,
   "metadata": {},
   "outputs": [],
   "source": [
    "x1 = -b/w[1]-w[0]/w[1]*x0\n",
    "x11 = -b1/w1[1]-w1[0]/w1[1]*x0\n",
    "x12 = -b2/w2[1]-w2[0]/w2[1]*x0"
   ]
  },
  {
   "cell_type": "code",
   "execution_count": 65,
   "metadata": {},
   "outputs": [
    {
     "data": {
      "image/png": "[encoded data removed]",
      "text/plain": [
       "<matplotlib.figure.Figure at 0x7f6216b67588>"
      ]
     },
     "metadata": {},
     "output_type": "display_data"
    }
   ],
   "source": [
    "plt.plot(x0,x1,\"k--\",linewidth=2)\n",
    "plt.plot(x0,x11,'r--',linewidth=2)\n",
    "plt.plot(x0,x12,'b--',linewidth=2)\n",
    "plt.plot(X[:,0][y==0],X[:,1][y==0],'bs')\n",
    "plt.plot(X[:,0][y==1],X[:,1][y==1],'g^')\n",
    "plt.show()"
   ]
  },
  {
   "cell_type": "code",
   "execution_count": 5,
   "metadata": {},
   "outputs": [],
   "source": [
    "from sklearn.datasets import fetch_california_housing"
   ]
  },
  {
   "cell_type": "code",
   "execution_count": 6,
   "metadata": {},
   "outputs": [
    {
     "name": "stderr",
     "output_type": "stream",
     "text": [
      "Downloading Cal. housing from https://ndownloader.figshare.com/files/5976036 to /home/shruti/scikit_learn_data\n"
     ]
    }
   ],
   "source": [
    "housing = fetch_california_housing()"
   ]
  },
  {
   "cell_type": "code",
   "execution_count": 7,
   "metadata": {},
   "outputs": [],
   "source": [
    "X = housing[\"data\"]\n",
    "y = housing[\"target\"]"
   ]
  },
  {
   "cell_type": "code",
   "execution_count": 8,
   "metadata": {},
   "outputs": [],
   "source": [
    "from sklearn.model_selection import train_test_split"
   ]
  },
  {
   "cell_type": "code",
   "execution_count": 28,
   "metadata": {},
   "outputs": [],
   "source": [
    "X_train, X_test, y_train, y_test = train_test_split(X,y,test_size = 0.2,random_state = 42)"
   ]
  },
  {
   "cell_type": "code",
   "execution_count": 29,
   "metadata": {},
   "outputs": [],
   "source": [
    "from sklearn.preprocessing import StandardScaler"
   ]
  },
  {
   "cell_type": "code",
   "execution_count": 30,
   "metadata": {},
   "outputs": [],
   "source": [
    "from sklearn.svm import SVR"
   ]
  },
  {
   "cell_type": "code",
   "execution_count": 31,
   "metadata": {},
   "outputs": [],
   "source": [
    "scaler = StandardScaler()"
   ]
  },
  {
   "cell_type": "code",
   "execution_count": 32,
   "metadata": {},
   "outputs": [],
   "source": [
    "X_train_scaled = scaler.fit_transform(X_train)"
   ]
  },
  {
   "cell_type": "code",
   "execution_count": 33,
   "metadata": {},
   "outputs": [
    {
     "data": {
      "text/plain": [
       "(16512, 8)"
      ]
     },
     "execution_count": 33,
     "metadata": {},
     "output_type": "execute_result"
    }
   ],
   "source": [
    "X_train_scaled.shape\n"
   ]
  },
  {
   "cell_type": "code",
   "execution_count": 34,
   "metadata": {},
   "outputs": [],
   "source": [
    "svr_reg = SVR()\n",
    "param_grid = {'kernel':['rbf','linear'],'gamma':[0.1,3]}"
   ]
  },
  {
   "cell_type": "code",
   "execution_count": 35,
   "metadata": {},
   "outputs": [],
   "source": [
    "from sklearn.model_selection import GridSearchCV"
   ]
  },
  {
   "cell_type": "code",
   "execution_count": 36,
   "metadata": {},
   "outputs": [],
   "source": [
    "grid_search = GridSearchCV(svr_reg,param_grid,cv=3,scoring = \"neg_mean_squared_error\")"
   ]
  },
  {
   "cell_type": "code",
   "execution_count": 37,
   "metadata": {},
   "outputs": [
    {
     "data": {
      "text/plain": [
       "GridSearchCV(cv=3, error_score='raise',\n",
       "       estimator=SVR(C=1.0, cache_size=200, coef0=0.0, degree=3, epsilon=0.1, gamma='auto',\n",
       "  kernel='rbf', max_iter=-1, shrinking=True, tol=0.001, verbose=False),\n",
       "       fit_params=None, iid=True, n_jobs=1,\n",
       "       param_grid={'kernel': ['rbf', 'linear'], 'gamma': [0.1, 3]},\n",
       "       pre_dispatch='2*n_jobs', refit=True, return_train_score='warn',\n",
       "       scoring='neg_mean_squared_error', verbose=0)"
      ]
     },
     "execution_count": 37,
     "metadata": {},
     "output_type": "execute_result"
    }
   ],
   "source": [
    "grid_search.fit(X_train_scaled,y_train)"
   ]
  },
  {
   "cell_type": "code",
   "execution_count": 39,
   "metadata": {},
   "outputs": [],
   "source": [
    "final_model = grid_search.best_estimator_"
   ]
  },
  {
   "cell_type": "code",
   "execution_count": 40,
   "metadata": {},
   "outputs": [
    {
     "data": {
      "text/plain": [
       "SVR(C=1.0, cache_size=200, coef0=0.0, degree=3, epsilon=0.1, gamma=0.1,\n",
       "  kernel='rbf', max_iter=-1, shrinking=True, tol=0.001, verbose=False)"
      ]
     },
     "execution_count": 40,
     "metadata": {},
     "output_type": "execute_result"
    }
   ],
   "source": [
    "grid_search.best_estimator_"
   ]
  },
  {
   "cell_type": "code",
   "execution_count": 41,
   "metadata": {},
   "outputs": [],
   "source": [
    "X_test_scaled = scaler.fit_transform(X_test)"
   ]
  },
  {
   "cell_type": "code",
   "execution_count": 42,
   "metadata": {},
   "outputs": [],
   "source": [
    "y_pred = final_model.predict(X_test_scaled)"
   ]
  },
  {
   "cell_type": "code",
   "execution_count": 43,
   "metadata": {},
   "outputs": [],
   "source": [
    "from sklearn.metrics import mean_squared_error"
   ]
  },
  {
   "cell_type": "code",
   "execution_count": 47,
   "metadata": {},
   "outputs": [],
   "source": [
    "mse = mean_squared_error(y_test,y_pred)"
   ]
  },
  {
   "cell_type": "code",
   "execution_count": 48,
   "metadata": {},
   "outputs": [
    {
     "data": {
      "text/plain": [
       "0.9537627292484615"
      ]
     },
     "execution_count": 48,
     "metadata": {},
     "output_type": "execute_result"
    }
   ],
   "source": [
    "import numpy as np\n",
    "np.sqrt(mse)"
   ]
  },
  {
   "cell_type": "code",
   "execution_count": 5,
   "metadata": {},
   "outputs": [],
   "source": [
    "from sklearn.datasets import fetch_mldata"
   ]
  },
  {
   "cell_type": "code",
   "execution_count": 6,
   "metadata": {},
   "outputs": [],
   "source": [
    "mnist = fetch_mldata('MNIST original')"
   ]
  },
  {
   "cell_type": "code",
   "execution_count": 7,
   "metadata": {},
   "outputs": [],
   "source": [
    "X = mnist['data']"
   ]
  },
  {
   "cell_type": "code",
   "execution_count": 8,
   "metadata": {},
   "outputs": [],
   "source": [
    "y = mnist['target']"
   ]
  },
  {
   "cell_type": "code",
   "execution_count": 9,
   "metadata": {},
   "outputs": [],
   "source": [
    "X_train , X_test , y_train , y_test = X[:60000] , X[60000:] , y[:60000] , y[60000:]"
   ]
  },
  {
   "cell_type": "code",
   "execution_count": 11,
   "metadata": {},
   "outputs": [],
   "source": [
    "import numpy as np\n",
    "shuffled_indices = np.random.permutation(60000)"
   ]
  },
  {
   "cell_type": "code",
   "execution_count": 12,
   "metadata": {},
   "outputs": [],
   "source": [
    "X_train , y_train = X_train[shuffled_indices] , y_train[shuffled_indices]"
   ]
  },
  {
   "cell_type": "code",
   "execution_count": 59,
   "metadata": {},
   "outputs": [],
   "source": [
    "from sklearn.svm import LinearSVC"
   ]
  },
  {
   "cell_type": "code",
   "execution_count": 72,
   "metadata": {},
   "outputs": [],
   "source": [
    "lin_svc = LinearSVC(loss = \"hinge\")\n",
    "param_grid = {'C':[0.0001,0.001,0.01,0.1 , 1, 10, 100, 1000]}"
   ]
  },
  {
   "cell_type": "code",
   "execution_count": 73,
   "metadata": {},
   "outputs": [],
   "source": [
    "grid_search = GridSearchCV(lin_svc , param_grid , cv =3, scoring = 'accuracy')"
   ]
  },
  {
   "cell_type": "code",
   "execution_count": 85,
   "metadata": {},
   "outputs": [
    {
     "data": {
      "text/plain": [
       "GridSearchCV(cv=3, error_score='raise',\n",
       "       estimator=LinearSVC(C=1.0, class_weight=None, dual=True, fit_intercept=True,\n",
       "     intercept_scaling=1, loss='hinge', max_iter=1000, multi_class='ovr',\n",
       "     penalty='l2', random_state=None, tol=0.0001, verbose=0),\n",
       "       fit_params=None, iid=True, n_jobs=1,\n",
       "       param_grid={'C': [0.0001, 0.001, 0.01, 0.1, 1, 10, 100, 1000]},\n",
       "       pre_dispatch='2*n_jobs', refit=True, return_train_score='warn',\n",
       "       scoring='accuracy', verbose=0)"
      ]
     },
     "execution_count": 85,
     "metadata": {},
     "output_type": "execute_result"
    }
   ],
   "source": [
    "grid_search.fit(X_train_scaled[:1000],y_train[:1000])"
   ]
  },
  {
   "cell_type": "code",
   "execution_count": 86,
   "metadata": {},
   "outputs": [
    {
     "data": {
      "text/plain": [
       "LinearSVC(C=0.001, class_weight=None, dual=True, fit_intercept=True,\n",
       "     intercept_scaling=1, loss='hinge', max_iter=1000, multi_class='ovr',\n",
       "     penalty='l2', random_state=None, tol=0.0001, verbose=0)"
      ]
     },
     "execution_count": 86,
     "metadata": {},
     "output_type": "execute_result"
    }
   ],
   "source": [
    "grid_search.best_estimator_"
   ]
  },
  {
   "cell_type": "code",
   "execution_count": 87,
   "metadata": {},
   "outputs": [],
   "source": [
    "final_model = grid_search.best_estimator_"
   ]
  },
  {
   "cell_type": "code",
   "execution_count": 94,
   "metadata": {},
   "outputs": [
    {
     "name": "stderr",
     "output_type": "stream",
     "text": [
      "/home/shruti/ml/env/lib/python3.5/site-packages/sklearn/utils/validation.py:475: DataConversionWarning: Data with input dtype uint8 was converted to float64 by StandardScaler.\n",
      "  warnings.warn(msg, DataConversionWarning)\n"
     ]
    }
   ],
   "source": [
    "y_pred = final_model.predict(scaler.transform(X_test))"
   ]
  },
  {
   "cell_type": "code",
   "execution_count": 95,
   "metadata": {},
   "outputs": [],
   "source": [
    "from sklearn.metrics import f1_score"
   ]
  },
  {
   "cell_type": "code",
   "execution_count": 96,
   "metadata": {},
   "outputs": [
    {
     "data": {
      "text/plain": [
       "0.80884806988960456"
      ]
     },
     "execution_count": 96,
     "metadata": {},
     "output_type": "execute_result"
    }
   ],
   "source": [
    "f1_score(y_test,y_pred,average = \"macro\")"
   ]
  },
  {
   "cell_type": "code",
   "execution_count": 97,
   "metadata": {},
   "outputs": [],
   "source": [
    "from sklearn.metrics import accuracy_score"
   ]
  },
  {
   "cell_type": "code",
   "execution_count": 98,
   "metadata": {},
   "outputs": [
    {
     "data": {
      "text/plain": [
       "0.81310000000000004"
      ]
     },
     "execution_count": 98,
     "metadata": {},
     "output_type": "execute_result"
    }
   ],
   "source": [
    "accuracy_score(y_test,y_pred)"
   ]
  },
  {
   "cell_type": "code",
   "execution_count": 13,
   "metadata": {},
   "outputs": [
    {
     "ename": "NameError",
     "evalue": "name 'scaler' is not defined",
     "output_type": "error",
     "traceback": [
      "\u001b[0;31m---------------------------------------------------------------------------\u001b[0m",
      "\u001b[0;31mNameError\u001b[0m                                 Traceback (most recent call last)",
      "\u001b[0;32m<ipython-input-13-1247546cac43>\u001b[0m in \u001b[0;36m<module>\u001b[0;34m()\u001b[0m\n\u001b[0;32m----> 1\u001b[0;31m \u001b[0mX_train_scaled\u001b[0m \u001b[0;34m=\u001b[0m \u001b[0mscaler\u001b[0m\u001b[0;34m.\u001b[0m\u001b[0mfit_transform\u001b[0m\u001b[0;34m(\u001b[0m\u001b[0mX_train\u001b[0m\u001b[0;34m)\u001b[0m\u001b[0;34m\u001b[0m\u001b[0m\n\u001b[0m",
      "\u001b[0;31mNameError\u001b[0m: name 'scaler' is not defined"
     ]
    }
   ],
   "source": [
    "from sklea\n",
    "X_train_scaled = scaler.fit_transform(X_train)"
   ]
  },
  {
   "cell_type": "code",
   "execution_count": 102,
   "metadata": {},
   "outputs": [
    {
     "data": {
      "text/plain": [
       "LinearSVC(C=1.0, class_weight=None, dual=True, fit_intercept=True,\n",
       "     intercept_scaling=1, loss='hinge', max_iter=1000, multi_class='ovr',\n",
       "     penalty='l2', random_state=None, tol=0.0001, verbose=0)"
      ]
     },
     "execution_count": 102,
     "metadata": {},
     "output_type": "execute_result"
    }
   ],
   "source": [
    "lin_svc.fit(X_train_scaled,y_train)"
   ]
  },
  {
   "cell_type": "code",
   "execution_count": 103,
   "metadata": {},
   "outputs": [
    {
     "name": "stderr",
     "output_type": "stream",
     "text": [
      "/home/shruti/ml/env/lib/python3.5/site-packages/sklearn/utils/validation.py:475: DataConversionWarning: Data with input dtype uint8 was converted to float64 by StandardScaler.\n",
      "  warnings.warn(msg, DataConversionWarning)\n"
     ]
    }
   ],
   "source": [
    "X_test_scaled = scaler.transform(X_test)"
   ]
  },
  {
   "cell_type": "code",
   "execution_count": 104,
   "metadata": {},
   "outputs": [],
   "source": [
    "y_pred = lin_svc.predict(X_test_scaled)"
   ]
  },
  {
   "cell_type": "code",
   "execution_count": 105,
   "metadata": {},
   "outputs": [
    {
     "data": {
      "text/plain": [
       "0.91610000000000003"
      ]
     },
     "execution_count": 105,
     "metadata": {},
     "output_type": "execute_result"
    }
   ],
   "source": [
    "accuracy_score(y_test,y_pred)"
   ]
  },
  {
   "cell_type": "code",
   "execution_count": 1,
   "metadata": {},
   "outputs": [],
   "source": [
    "from sklearn.svm import SVC"
   ]
  },
  {
   "cell_type": "code",
   "execution_count": 2,
   "metadata": {},
   "outputs": [],
   "source": [
    "param_grid = {'C':[0.1,1,5,10,100],'gamma':[0.3,0.4,1,2,3,4]}\n",
    "svc_clf = SVC()"
   ]
  },
  {
   "cell_type": "code",
   "execution_count": 3,
   "metadata": {},
   "outputs": [],
   "source": [
    "from sklearn.model_selection import RandomizedSearchCV"
   ]
  },
  {
   "cell_type": "code",
   "execution_count": 4,
   "metadata": {},
   "outputs": [],
   "source": [
    "random_search = RandomizedSearchCV(svc_clf,param_grid,cv =3,scoring = 'accuracy',)"
   ]
  },
  {
   "cell_type": "code",
   "execution_count": null,
   "metadata": {},
   "outputs": [],
   "source": [
    "random_search.fit(X_train_scaled[:1000],y_train[:1000])"
   ]
  },
  {
   "cell_type": "code",
   "execution_count": null,
   "metadata": {},
   "outputs": [],
   "source": [
    "final_model = random_search.best_estimator_"
   ]
  },
  {
   "cell_type": "code",
   "execution_count": null,
   "metadata": {},
   "outputs": [],
   "source": [
    "random_search.best_estimator_"
   ]
  },
  {
   "cell_type": "code",
   "execution_count": null,
   "metadata": {},
   "outputs": [],
   "source": [
    "y_pred = final_model.predict(X_test_scaled)"
   ]
  },
  {
   "cell_type": "code",
   "execution_count": null,
   "metadata": {},
   "outputs": [],
   "source": [
    "accuracy_score(y_test,y_pred)"
   ]
  },
  {
   "cell_type": "code",
   "execution_count": null,
   "metadata": {},
   "outputs": [],
   "source": []
  }
 ],
 "metadata": {
  "kernelspec": {
   "display_name": "Python 3",
   "language": "python",
   "name": "python3"
  },
  "language_info": {
   "codemirror_mode": {
    "name": "ipython",
    "version": 3
   },
   "file_extension": ".py",
   "mimetype": "text/x-python",
   "name": "python",
   "nbconvert_exporter": "python",
   "pygments_lexer": "ipython3",
   "version": "3.5.2"
  }
 },
 "nbformat": 4,
 "nbformat_minor": 2
}
